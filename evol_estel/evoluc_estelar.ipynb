{
 "cells": [
  {
   "cell_type": "code",
   "execution_count": 1,
   "metadata": {},
   "outputs": [
    {
     "name": "stdout",
     "output_type": "stream",
     "text": [
      "Populating the interactive namespace from numpy and matplotlib\n"
     ]
    }
   ],
   "source": [
    "%pylab inline"
   ]
  },
  {
   "cell_type": "code",
   "execution_count": 16,
   "metadata": {},
   "outputs": [],
   "source": [
    "M_sol  = 1.9891e30 #[M_sol] = Kg\n",
    "R_sol  = 6.95508e8 #[R_sol] = m\n",
    "G      = 6.673e-11 # [G] = N m^2 Kg^-2\n",
    "E_nuc  = 3.839e26 #[E_nuc] = kg m^2 / s^2\n",
    "\n",
    "ro_sol = 0.75 * M_sol/(np.pi * R_sol**3)\n",
    "\n",
    "#----------------- Condiciones en el centro------------------------\n",
    "Pc = 2.3e16 #[Pc] = N / m^2\n",
    "Tc = 1.56e7 #[K]\n"
   ]
  },
  {
   "cell_type": "code",
   "execution_count": 17,
   "metadata": {},
   "outputs": [
    {
     "name": "stdout",
     "output_type": "stream",
     "text": [
      "[0.000000e+00 3.978200e+28 7.956400e+28 1.193460e+29 1.591280e+29\n",
      " 1.989100e+29 2.386920e+29 2.784740e+29 3.182560e+29 3.580380e+29\n",
      " 3.978200e+29 4.376020e+29 4.773840e+29 5.171660e+29 5.569480e+29\n",
      " 5.967300e+29 6.365120e+29 6.762940e+29 7.160760e+29 7.558580e+29\n",
      " 7.956400e+29 8.354220e+29 8.752040e+29 9.149860e+29 9.547680e+29\n",
      " 9.945500e+29 1.034332e+30 1.074114e+30 1.113896e+30 1.153678e+30\n",
      " 1.193460e+30 1.233242e+30 1.273024e+30 1.312806e+30 1.352588e+30\n",
      " 1.392370e+30 1.432152e+30 1.471934e+30 1.511716e+30 1.551498e+30\n",
      " 1.591280e+30 1.631062e+30 1.670844e+30 1.710626e+30 1.750408e+30\n",
      " 1.790190e+30 1.829972e+30 1.869754e+30 1.909536e+30 1.949318e+30\n",
      " 1.989100e+30]\n"
     ]
    }
   ],
   "source": [
    "M = M_sol*frange(0, 1.,0.02)\n",
    "n = len(M)\n",
    "\n",
    "print M"
   ]
  },
  {
   "cell_type": "code",
   "execution_count": 18,
   "metadata": {},
   "outputs": [
    {
     "name": "stdout",
     "output_type": "stream",
     "text": [
      "[0.00000000e+00 6.72878087e+24 1.34575617e+25 2.01863426e+25\n",
      " 2.69151235e+25 3.36439043e+25 4.03726852e+25 4.71014661e+25\n",
      " 5.38302469e+25 6.05590278e+25 6.72878087e+25 7.40165895e+25\n",
      " 8.07453704e+25 8.74741513e+25 9.42029321e+25 1.00931713e+26\n",
      " 1.07660494e+26 1.14389275e+26 1.21118056e+26 1.27846836e+26\n",
      " 1.34575617e+26 1.41304398e+26 1.48033179e+26 1.54761960e+26\n",
      " 1.61490741e+26 1.68219522e+26 1.74948303e+26 1.81677083e+26\n",
      " 1.88405864e+26 1.95134645e+26 2.01863426e+26 2.08592207e+26\n",
      " 2.15320988e+26 2.22049769e+26 2.28778549e+26 2.35507330e+26\n",
      " 2.42236111e+26 2.48964892e+26 2.55693673e+26 2.62422454e+26\n",
      " 2.69151235e+26 2.75880016e+26 2.82608796e+26 2.89337577e+26\n",
      " 2.96066358e+26 3.02795139e+26 3.09523920e+26 3.16252701e+26\n",
      " 3.22981482e+26 3.29710262e+26 3.36439043e+26]\n"
     ]
    }
   ],
   "source": [
    "r_3 = np.zeros(n)\n",
    "\n",
    "for i in np.arange(n-1):\n",
    "    r_3[i+1] = r_3[i] + 0.75*(M[i+1]-M[i])/(ro_sol*np.pi)\n",
    "    \n",
    "\n",
    "r = r_3**(1/3.)\n",
    "print r_3"
   ]
  },
  {
   "cell_type": "code",
   "execution_count": 19,
   "metadata": {},
   "outputs": [
    {
     "data": {
      "text/plain": [
       "[<matplotlib.lines.Line2D at 0x7f4c8b7a5110>]"
      ]
     },
     "execution_count": 19,
     "metadata": {},
     "output_type": "execute_result"
    },
    {
     "data": {
      "image/png": "[encoded data removed]",
      "text/plain": [
       "<matplotlib.figure.Figure at 0x7f4c8b871050>"
      ]
     },
     "metadata": {},
     "output_type": "display_data"
    }
   ],
   "source": [
    "plt.plot(M,r,'o')"
   ]
  },
  {
   "cell_type": "code",
   "execution_count": 20,
   "metadata": {},
   "outputs": [
    {
     "name": "stdout",
     "output_type": "stream",
     "text": [
      "[0.00000000e+00 1.52723098e+55 3.05446196e+55 4.58169294e+55\n",
      " 6.10892392e+55 7.63615490e+55 9.16338588e+55 1.06906169e+56\n",
      " 1.22178478e+56 1.37450788e+56 1.52723098e+56 1.67995408e+56\n",
      " 1.83267718e+56 1.98540027e+56 2.13812337e+56 2.29084647e+56\n",
      " 2.44356957e+56 2.59629267e+56 2.74901576e+56 2.90173886e+56\n",
      " 3.05446196e+56 3.20718506e+56 3.35990816e+56 3.51263125e+56\n",
      " 3.66535435e+56 3.81807745e+56 3.97080055e+56 4.12352365e+56\n",
      " 4.27624674e+56 4.42896984e+56 4.58169294e+56 4.73441604e+56\n",
      " 4.88713914e+56 5.03986223e+56 5.19258533e+56 5.34530843e+56\n",
      " 5.49803153e+56 5.65075463e+56 5.80347772e+56 5.95620082e+56\n",
      " 6.10892392e+56 6.26164702e+56 6.41437012e+56 6.56709321e+56\n",
      " 6.71981631e+56 6.87253941e+56 7.02526251e+56 7.17798561e+56\n",
      " 7.33070870e+56 7.48343180e+56 7.63615490e+56]\n"
     ]
    }
   ],
   "source": [
    "L = np.zeros(n)\n",
    "\n",
    "for i in np.arange(n-1):\n",
    "    L[i+1] = L[i] + E_nuc*(M[i+1]-M[i])\n",
    "\n",
    "print L"
   ]
  },
  {
   "cell_type": "code",
   "execution_count": 21,
   "metadata": {},
   "outputs": [
    {
     "data": {
      "text/plain": [
       "[<matplotlib.lines.Line2D at 0x7f4c8b72b050>]"
      ]
     },
     "execution_count": 21,
     "metadata": {},
     "output_type": "execute_result"
    },
    {
     "data": {
      "image/png": "[encoded data removed]",
      "text/plain": [
       "<matplotlib.figure.Figure at 0x7f4c8b7f6490>"
      ]
     },
     "metadata": {},
     "output_type": "display_data"
    }
   ],
   "source": [
    "plt.plot(M,L,'o')"
   ]
  },
  {
   "cell_type": "code",
   "execution_count": 22,
   "metadata": {},
   "outputs": [],
   "source": [
    "P = np.zeros(n)\n",
    "\n",
    "P[0] =  Pc\n",
    "P[1] = P[0]\n",
    "\n",
    "aux1 = G / (4. * np.pi)\n",
    "\n",
    "for i in np.arange(2,n-1):\n",
    "    aux2 = 0.5*(M[i+1] - 2*M[i] + M[i-1])\n",
    "    \n",
    "    P[i] = P[i-1] - (aux1 * aux2 * M[i-1] / (r[i-1]**4))"
   ]
  },
  {
   "cell_type": "code",
   "execution_count": 23,
   "metadata": {},
   "outputs": [
    {
     "data": {
      "text/plain": [
       "[<matplotlib.lines.Line2D at 0x7f4c8b6ae8d0>]"
      ]
     },
     "execution_count": 23,
     "metadata": {},
     "output_type": "execute_result"
    },
    {
     "data": {
      "image/png": "[encoded data removed]",
      "text/plain": [
       "<matplotlib.figure.Figure at 0x7f4c938992d0>"
      ]
     },
     "metadata": {},
     "output_type": "display_data"
    }
   ],
   "source": [
    "plt.plot(M,P,'o')"
   ]
  },
  {
   "cell_type": "code",
   "execution_count": 24,
   "metadata": {},
   "outputs": [],
   "source": [
    "P = np.zeros(n)\n",
    "\n",
    "P[0] =  2.3e16 #[Presion en el centro del sol] = N / m^2\n",
    "P[1] = P[0]\n",
    "\n",
    "aux = G / (2. * np.pi)\n",
    "\n",
    "for i in np.arange(2,n):\n",
    "    \n",
    "    #aux1 = (M[i+1]-M[i])*0.5\n",
    "    #aux2 = (M[i]-M[i-1])*0.5\n",
    "    \n",
    "    P[i] = P[i-1] - (aux * M[i-1]**2 /(r[i-1]**4))    "
   ]
  },
  {
   "cell_type": "code",
   "execution_count": 25,
   "metadata": {},
   "outputs": [
    {
     "data": {
      "text/plain": [
       "[<matplotlib.lines.Line2D at 0x7f4c8b62ad90>]"
      ]
     },
     "execution_count": 25,
     "metadata": {},
     "output_type": "execute_result"
    },
    {
     "data": {
      "image/png": "[encoded data removed]",
      "text/plain": [
       "<matplotlib.figure.Figure at 0x7f4c8b6dd850>"
      ]
     },
     "metadata": {},
     "output_type": "display_data"
    }
   ],
   "source": [
    "plt.plot(M,P,'o')"
   ]
  },
  {
   "cell_type": "code",
   "execution_count": 26,
   "metadata": {},
   "outputs": [],
   "source": [
    "T = np.zeros(n)\n",
    "T[0] = 15e6\n",
    "T[1] = T[0]\n",
    "aux = 1.\n",
    "\n",
    "for i in np.arange(2,n):\n",
    "    \n",
    "    #T[i] = T[i-1] - aux * M[i-1]**2 * 0.5 * (B[i] + B[i-1]) / r[i-1]**4 ------> OPCION 1\n",
    "    T[i] = T[i-1] - aux * L[i-1] * M[i-1] / (T[i-1]**3 * r[i-1]**4)\n",
    "\n",
    "#print T"
   ]
  },
  {
   "cell_type": "code",
   "execution_count": 27,
   "metadata": {},
   "outputs": [
    {
     "data": {
      "text/plain": [
       "[<matplotlib.lines.Line2D at 0x7f4c8b5b0710>]"
      ]
     },
     "execution_count": 27,
     "metadata": {},
     "output_type": "execute_result"
    },
    {
     "data": {
      "image/png": "[encoded data removed]",
      "text/plain": [
       "<matplotlib.figure.Figure at 0x7f4c8b67c150>"
      ]
     },
     "metadata": {},
     "output_type": "display_data"
    }
   ],
   "source": [
    "plt.plot(M,T,'o')"
   ]
  }
 ],
 "metadata": {
  "kernelspec": {
   "display_name": "Python 2",
   "language": "python",
   "name": "python2"
  },
  "language_info": {
   "codemirror_mode": {
    "name": "ipython",
    "version": 2
   },
   "file_extension": ".py",
   "mimetype": "text/x-python",
   "name": "python",
   "nbconvert_exporter": "python",
   "pygments_lexer": "ipython2",
   "version": "2.7.14"
  }
 },
 "nbformat": 4,
 "nbformat_minor": 2
}
