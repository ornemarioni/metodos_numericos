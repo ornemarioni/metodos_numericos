{
 "cells": [
  {
   "cell_type": "code",
   "execution_count": 45,
   "metadata": {},
   "outputs": [
    {
     "name": "stdout",
     "output_type": "stream",
     "text": [
      "Populating the interactive namespace from numpy and matplotlib\n"
     ]
    }
   ],
   "source": [
    "%pylab inline"
   ]
  },
  {
   "cell_type": "code",
   "execution_count": 46,
   "metadata": {},
   "outputs": [],
   "source": [
    "M_sol  = 1.99e30 #[M_sol] = Kg\n",
    "R_sol  = 6.960e8 #[R_sol] = m\n",
    "E_nuc  = 3.86e26 #[E_nuc] = kg m^2 / s^3 ----> este nro esta mal, hay q revisarlo\n",
    "G      = 4.299e-6   # Unidades kpc * Msol^-1*(km/s)**2 -------------> estan mal las unidades de esto\n",
    "\n",
    "ro_sol = 3.*M_sol/(4 * np.pi *R_sol**3)\n",
    "\n",
    "M = M_sol*frange(0, 1.,0.02)\n",
    "n = len(M)\n",
    "\n",
    "#print M"
   ]
  },
  {
   "cell_type": "code",
   "execution_count": 47,
   "metadata": {},
   "outputs": [],
   "source": [
    "r_3 = np.zeros(n)\n",
    "\n",
    "for i in np.arange(n-1):\n",
    "    r_3[i+1] = r_3[i] + 0.75*(M[i+1]-M[i])/(ro_sol*np.pi)\n",
    "\n",
    "r = r_3**(1/3.)\n",
    "#print r_3"
   ]
  },
  {
   "cell_type": "code",
   "execution_count": 48,
   "metadata": {},
   "outputs": [
    {
     "data": {
      "text/plain": [
       "[<matplotlib.lines.Line2D at 0x7f219cf7f850>]"
      ]
     },
     "execution_count": 48,
     "metadata": {},
     "output_type": "execute_result"
    },
    {
     "data": {
      "image/png": "[encoded data removed]",
      "text/plain": [
       "<matplotlib.figure.Figure at 0x7f21bdf6b810>"
      ]
     },
     "metadata": {},
     "output_type": "display_data"
    }
   ],
   "source": [
    "plt.plot(M,r)"
   ]
  },
  {
   "cell_type": "code",
   "execution_count": 49,
   "metadata": {},
   "outputs": [
    {
     "name": "stdout",
     "output_type": "stream",
     "text": [
      "[0.000000e+00 1.536280e+55 3.072560e+55 4.608840e+55 6.145120e+55\n",
      " 7.681400e+55 9.217680e+55 1.075396e+56 1.229024e+56 1.382652e+56\n",
      " 1.536280e+56 1.689908e+56 1.843536e+56 1.997164e+56 2.150792e+56\n",
      " 2.304420e+56 2.458048e+56 2.611676e+56 2.765304e+56 2.918932e+56\n",
      " 3.072560e+56 3.226188e+56 3.379816e+56 3.533444e+56 3.687072e+56\n",
      " 3.840700e+56 3.994328e+56 4.147956e+56 4.301584e+56 4.455212e+56\n",
      " 4.608840e+56 4.762468e+56 4.916096e+56 5.069724e+56 5.223352e+56\n",
      " 5.376980e+56 5.530608e+56 5.684236e+56 5.837864e+56 5.991492e+56\n",
      " 6.145120e+56 6.298748e+56 6.452376e+56 6.606004e+56 6.759632e+56\n",
      " 6.913260e+56 7.066888e+56 7.220516e+56 7.374144e+56 7.527772e+56\n",
      " 7.681400e+56]\n"
     ]
    }
   ],
   "source": [
    "L = np.zeros(n)\n",
    "\n",
    "for i in np.arange(n-1):\n",
    "    L[i+1] = L[i] + E_nuc*(M[i+1]-M[i])\n",
    "\n",
    "print L"
   ]
  },
  {
   "cell_type": "code",
   "execution_count": 50,
   "metadata": {},
   "outputs": [
    {
     "data": {
      "text/plain": [
       "[<matplotlib.lines.Line2D at 0x7f219cec8c50>]"
      ]
     },
     "execution_count": 50,
     "metadata": {},
     "output_type": "execute_result"
    },
    {
     "data": {
      "image/png": "[encoded data removed]",
      "text/plain": [
       "<matplotlib.figure.Figure at 0x7f219cf45790>"
      ]
     },
     "metadata": {},
     "output_type": "display_data"
    }
   ],
   "source": [
    "plt.plot(M,L)"
   ]
  },
  {
   "cell_type": "code",
   "execution_count": 54,
   "metadata": {},
   "outputs": [
    {
     "name": "stdout",
     "output_type": "stream",
     "text": [
      "[ 2.65000000e+16  0.00000000e+00  0.00000000e+00  0.00000000e+00\n",
      "  8.79609302e+12 -1.75921860e+13  1.75921860e+13 -1.75921860e+13\n",
      "  1.75921860e+13  0.00000000e+00 -3.51843721e+13  3.51843721e+13\n",
      "  0.00000000e+00  0.00000000e+00 -3.51843721e+13  3.51843721e+13\n",
      "  0.00000000e+00  0.00000000e+00  0.00000000e+00  0.00000000e+00\n",
      " -7.03687442e+13  7.03687442e+13  7.03687442e+13 -1.40737488e+14\n",
      "  7.03687442e+13  0.00000000e+00  0.00000000e+00  0.00000000e+00\n",
      " -7.03687442e+13  7.03687442e+13  0.00000000e+00  0.00000000e+00\n",
      "  0.00000000e+00  0.00000000e+00  0.00000000e+00  0.00000000e+00\n",
      "  0.00000000e+00  0.00000000e+00  0.00000000e+00  0.00000000e+00\n",
      "  0.00000000e+00 -1.40737488e+14  1.40737488e+14  0.00000000e+00\n",
      "  0.00000000e+00  1.40737488e+14 -1.40737488e+14 -1.40737488e+14\n",
      "  1.40737488e+14  0.00000000e+00  0.00000000e+00]\n"
     ]
    }
   ],
   "source": [
    "P = np.zeros(n)\n",
    "\n",
    "P[0] =  2.65e16 #[Presion en el centro del sol] = Kg / m*s^2\n",
    "\n",
    "for i in np.arange(n-2):\n",
    "    P[i+1] = ((M[i+2]-M[i+1])*0.5 - (M[i+1]-M[i])*0.5)\n",
    "\n",
    "print P"
   ]
  },
  {
   "cell_type": "code",
   "execution_count": null,
   "metadata": {},
   "outputs": [],
   "source": []
  }
 ],
 "metadata": {
  "kernelspec": {
   "display_name": "Python 2",
   "language": "python",
   "name": "python2"
  },
  "language_info": {
   "codemirror_mode": {
    "name": "ipython",
    "version": 2
   },
   "file_extension": ".py",
   "mimetype": "text/x-python",
   "name": "python",
   "nbconvert_exporter": "python",
   "pygments_lexer": "ipython2",
   "version": "2.7.14"
  }
 },
 "nbformat": 4,
 "nbformat_minor": 2
}
