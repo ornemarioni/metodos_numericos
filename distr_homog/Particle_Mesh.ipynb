{
 "cells": [
  {
   "cell_type": "code",
   "execution_count": 22,
   "metadata": {},
   "outputs": [
    {
     "name": "stdout",
     "output_type": "stream",
     "text": [
      "Populating the interactive namespace from numpy and matplotlib\n"
     ]
    }
   ],
   "source": [
    "%pylab inline"
   ]
  },
  {
   "cell_type": "code",
   "execution_count": 23,
   "metadata": {},
   "outputs": [],
   "source": [
    "import random as rm"
   ]
  },
  {
   "cell_type": "code",
   "execution_count": 36,
   "metadata": {},
   "outputs": [],
   "source": [
    "n = 100000\n",
    "p = np.ndarray([n,2])\n",
    "\n",
    "for i in range(n):\n",
    "    \n",
    "    r = rm.uniform(0, 1.)\n",
    "    p[i,:] = [i,r]\n",
    "    \n",
    "#print p"
   ]
  },
  {
   "cell_type": "code",
   "execution_count": 37,
   "metadata": {},
   "outputs": [],
   "source": [
    "h = 0.01\n",
    "q = int(1./h)\n",
    "\n",
    "m = frange(0,q,1)\n",
    "w = np.zeros(q)\n",
    "\n",
    "#print m\n",
    "#print w"
   ]
  },
  {
   "cell_type": "code",
   "execution_count": 38,
   "metadata": {},
   "outputs": [
    {
     "name": "stdout",
     "output_type": "stream",
     "text": [
      "[ 997.  982. 1013.  988.  973.  987.  961. 1065.  979.  971.  986. 1044.\n",
      " 1062. 1039. 1015. 1025.  965. 1045. 1004. 1016.  993. 1003.  953.  979.\n",
      "  960.  976.  986.  979.  989. 1043. 1011. 1024. 1002.  993. 1039. 1013.\n",
      "  969. 1007.  985.  998. 1013.  994.  917. 1018.  970.  980.  992.  992.\n",
      " 1006. 1019. 1014. 1018. 1051. 1023. 1017.  937.  972. 1034.  942.  979.\n",
      " 1005. 1049. 1072. 1025.  963.  968. 1028.  991. 1044. 1025.  945. 1013.\n",
      "  939.  974. 1010. 1010.  997.  970. 1079. 1007. 1016. 1010.  968.  993.\n",
      "  995.  985.  984.  994.  999. 1021. 1007. 1004.  973. 1029. 1015.  992.\n",
      " 1002.  997.  992. 1003.]\n"
     ]
    }
   ],
   "source": [
    "for i in np.arange(n):\n",
    "    for j in np.arange(q):\n",
    "        if m[j]*h <= p[i,1] and p[i,1] < m[j+1]*h:\n",
    "            w[j] = w[j] + 1\n",
    "\n",
    "print w"
   ]
  },
  {
   "cell_type": "code",
   "execution_count": 41,
   "metadata": {},
   "outputs": [
    {
     "data": {
      "image/png": "[encoded data removed]",
      "text/plain": [
       "<matplotlib.figure.Figure at 0x7f1d24d90750>"
      ]
     },
     "metadata": {},
     "output_type": "display_data"
    }
   ],
   "source": [
    "i = 0\n",
    "for i in np.arange(q-1):\n",
    "    i = i+1\n",
    "    plt.plot(i,w[i],'o',color='blue')"
   ]
  },
  {
   "cell_type": "code",
   "execution_count": null,
   "metadata": {},
   "outputs": [],
   "source": []
  }
 ],
 "metadata": {
  "kernelspec": {
   "display_name": "Python 2",
   "language": "python",
   "name": "python2"
  },
  "language_info": {
   "codemirror_mode": {
    "name": "ipython",
    "version": 2
   },
   "file_extension": ".py",
   "mimetype": "text/x-python",
   "name": "python",
   "nbconvert_exporter": "python",
   "pygments_lexer": "ipython2",
   "version": "2.7.14"
  }
 },
 "nbformat": 4,
 "nbformat_minor": 2
}
