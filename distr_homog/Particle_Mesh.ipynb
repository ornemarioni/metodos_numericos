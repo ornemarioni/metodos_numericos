{
 "cells": [
  {
   "cell_type": "code",
   "execution_count": 1,
   "metadata": {},
   "outputs": [
    {
     "name": "stdout",
     "output_type": "stream",
     "text": [
      "Populating the interactive namespace from numpy and matplotlib\n"
     ]
    }
   ],
   "source": [
    "%pylab inline"
   ]
  },
  {
   "cell_type": "markdown",
   "metadata": {},
   "source": [
    "## Distribución de Particulas"
   ]
  },
  {
   "cell_type": "code",
   "execution_count": 2,
   "metadata": {},
   "outputs": [],
   "source": [
    "import random as rm"
   ]
  },
  {
   "cell_type": "code",
   "execution_count": 32,
   "metadata": {},
   "outputs": [],
   "source": [
    "n = 10000\n",
    "p = np.ndarray([n,2])\n",
    "\n",
    "#-------------Distribucion Homogenea------------------------\n",
    "for i in range(n):\n",
    "  \n",
    "    r = rm.uniform(0, 1.)\n",
    "    p[i,:] = [i,r]\n",
    "\n",
    "#print p"
   ]
  },
  {
   "cell_type": "code",
   "execution_count": 33,
   "metadata": {},
   "outputs": [
    {
     "name": "stdout",
     "output_type": "stream",
     "text": [
      "100\n"
     ]
    }
   ],
   "source": [
    "h = 0.01\n",
    "q = int(1./h)\n",
    "\n",
    "m = frange(0,q,1)\n",
    "w = np.zeros(q)\n",
    "\n",
    "#print m\n",
    "#print w\n",
    "print q"
   ]
  },
  {
   "cell_type": "markdown",
   "metadata": {},
   "source": [
    "# NGP"
   ]
  },
  {
   "cell_type": "code",
   "execution_count": 34,
   "metadata": {},
   "outputs": [
    {
     "name": "stdout",
     "output_type": "stream",
     "text": [
      "[102. 112.  97.  93.  92. 106. 116.  87. 117. 104.  96.  87. 111.  97.\n",
      "  97. 105. 109.  95.  99.  98.  89. 109.  98. 108. 106. 105.  91. 111.\n",
      "  88. 108.  87.  93. 132. 107. 115. 118. 102.  90. 103. 100. 108.  94.\n",
      "  89.  87.  77.  96. 109. 106.  95.  94.  94. 101.  82.  91. 106.  99.\n",
      "  96. 104.  92. 101. 102.  75.  95. 114. 100.  91. 103. 101. 106.  73.\n",
      "  76. 105.  95.  97.  80.  97. 100. 107. 114. 114. 105. 114.  84.  90.\n",
      " 125. 105. 112.  96.  91. 106.  87. 108.  94. 111. 102. 102. 110. 103.\n",
      " 102. 107.]\n"
     ]
    }
   ],
   "source": [
    "for i in np.arange(n):\n",
    "    for j in np.arange(q):\n",
    "        if m[j]*h <= p[i,1] and p[i,1] < m[j+1]*h:\n",
    "            w[j] = w[j] + 1\n",
    "\n",
    "#print w"
   ]
  },
  {
   "cell_type": "code",
   "execution_count": 35,
   "metadata": {},
   "outputs": [
    {
     "data": {
      "text/plain": [
       "[<matplotlib.lines.Line2D at 0x7f6dd7a33150>]"
      ]
     },
     "execution_count": 35,
     "metadata": {},
     "output_type": "execute_result"
    },
    {
     "data": {
      "image/png": "[encoded data removed]",
      "text/plain": [
       "<matplotlib.figure.Figure at 0x7f6dd7ac2c10>"
      ]
     },
     "metadata": {},
     "output_type": "display_data"
    }
   ],
   "source": [
    "plt.plot(w,'o')"
   ]
  }
 ],
 "metadata": {
  "kernelspec": {
   "display_name": "Python 2",
   "language": "python",
   "name": "python2"
  },
  "language_info": {
   "codemirror_mode": {
    "name": "ipython",
    "version": 2
   },
   "file_extension": ".py",
   "mimetype": "text/x-python",
   "name": "python",
   "nbconvert_exporter": "python",
   "pygments_lexer": "ipython2",
   "version": "2.7.14"
  }
 },
 "nbformat": 4,
 "nbformat_minor": 2
}
