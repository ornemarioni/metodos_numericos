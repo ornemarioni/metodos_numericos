{
 "cells": [
  {
   "cell_type": "code",
   "execution_count": 1,
   "metadata": {},
   "outputs": [
    {
     "name": "stdout",
     "output_type": "stream",
     "text": [
      "Populating the interactive namespace from numpy and matplotlib\n"
     ]
    }
   ],
   "source": [
    "%pylab inline"
   ]
  },
  {
   "cell_type": "code",
   "execution_count": 2,
   "metadata": {},
   "outputs": [],
   "source": [
    "import random as rm"
   ]
  },
  {
   "cell_type": "markdown",
   "metadata": {},
   "source": [
    "# Distribucion homogena de particulas en r"
   ]
  },
  {
   "cell_type": "code",
   "execution_count": 3,
   "metadata": {},
   "outputs": [],
   "source": [
    "n = 10000\n",
    "p = np.ndarray([n,4])\n",
    "\n",
    "for i in range(n):\n",
    "    \n",
    "    r3 = rm.uniform(0, 1./3.)\n",
    "    ct = rm.uniform(-1, 1)\n",
    "    fi = rm.uniform(0, 2*np.pi)\n",
    "    \n",
    "    st = np.sqrt(1 - ct**2)\n",
    "        \n",
    "    x = (r3*3)**(1/3.) * st * np.cos(fi)\n",
    "    y = (r3*3)**(1/3.) * st * np.sin(fi)\n",
    "    z = (r3*3)**(1/3.) * ct\n",
    "    \n",
    "    p[i,:] = [i,x,y,z]\n",
    "    \n",
    "#print p"
   ]
  },
  {
   "cell_type": "code",
   "execution_count": 4,
   "metadata": {},
   "outputs": [],
   "source": [
    "# fig, (ax1, ax2) = plt.subplots(1, 2, figsize=(10, 5), tight_layout=True)\n",
    "\n",
    "# ax1.plot(p[:,1],p[:,2],'o')\n",
    "# ax1.set_xlabel('x')\n",
    "# ax1.set_ylabel('y')\n",
    "\n",
    "# ax2.plot(p[:,1],p[:,3],'o')\n",
    "# ax2.set_xlabel('x')\n",
    "# ax2.set_ylabel('z')\n",
    "\n",
    "# plt.show()"
   ]
  },
  {
   "cell_type": "markdown",
   "metadata": {},
   "source": [
    "# Calculemos la densidad para corroborar que la distribución es la correcta"
   ]
  },
  {
   "cell_type": "markdown",
   "metadata": {},
   "source": [
    "#### $\\rho(r)=\\frac{M}{V}=\\frac{M}{\\frac{4}{3}\\pi r^{3}}$"
   ]
  },
  {
   "cell_type": "code",
   "execution_count": 5,
   "metadata": {},
   "outputs": [
    {
     "name": "stdout",
     "output_type": "stream",
     "text": [
      "[[ 0.00000000e+00  4.97626288e-01 -2.66608700e-01 -6.58065705e-01]\n",
      " [ 1.00000000e+00  1.38209963e-01 -1.35345611e-01  7.82775446e-01]\n",
      " [ 2.00000000e+00  2.08840859e-01  4.43839077e-01 -5.88538810e-01]\n",
      " ...\n",
      " [ 9.99700000e+03 -4.58421632e-01 -4.82475767e-01  6.36955572e-01]\n",
      " [ 9.99800000e+03 -4.06688347e-01  1.02256068e-01  1.17279452e-01]\n",
      " [ 9.99900000e+03 -1.56069832e-01  9.05029927e-01 -1.05953185e-01]]\n"
     ]
    }
   ],
   "source": [
    "# p tiene el nro de partícula y las coordenadas cartesianas (x,y,z) de sus posiciones\n",
    "print p\n",
    "\n",
    "# Calculamos la coordenada r de cada partícula\n",
    "r = np.zeros(n)\n",
    "r = np.sqrt(p[:,1]**2 + p[:,2]**2 + p[:,3]**2)\n",
    "\n",
    "#print r"
   ]
  },
  {
   "cell_type": "code",
   "execution_count": 6,
   "metadata": {},
   "outputs": [],
   "source": [
    "# Calculamos la cantidad de partículas que hay entre r y r+dr. Para ello veamos en que cascara \n",
    "# se encuentra cada partícula. Suponemos que cada partícula tiene una masa m=1\n",
    "\n",
    "dr = 0.1                  # ancho de cada cascarón\n",
    "l  = int(1/dr)            # cantidad de cáscaras\n",
    "\n",
    "m_r = np.zeros(l)         # masa en cada cascarón\n",
    "rm  = np.zeros(n)         # nro del cascarón al que pertenece la partícula\n",
    "\n",
    "for i in np.arange(n):\n",
    "    rm[i] = int(r[i]/dr)\n",
    "    j = int(rm[i])\n",
    "    m_r[j] = m_r[j] + 1   # acá sumamos las partículas que están en cada cáscara.\n",
    "\n",
    "#print rm\n",
    "#print m_r\n"
   ]
  },
  {
   "cell_type": "code",
   "execution_count": 7,
   "metadata": {},
   "outputs": [],
   "source": [
    "# Calculamos la cantidad de partículas que hay en las diferentes esferas de radio r\n",
    "\n",
    "m_acum = np.zeros(l)       # masa correspondiente a cada esfera de radio r\n",
    "m_acum[0] = m_r[0]\n",
    "\n",
    "for i in np.arange(1,l):\n",
    "    m_acum[i] = m_r[i-1] + m_r[i]\n",
    "\n",
    "#print m_acum\n"
   ]
  },
  {
   "cell_type": "code",
   "execution_count": 17,
   "metadata": {},
   "outputs": [],
   "source": [
    "# Calculemos la densidad que hay dentro de las esferas de radio r\n",
    "\n",
    "r_m = np.arange(dr,1+dr,dr)           # radios de cada una de las esferas\n",
    "# r_m = np.log10(r_m)\n",
    "#print r_m\n",
    "\n",
    "rho = 0.75 * m_acum/(np.pi * r_m**3)  # densidad de masa dentro de cada una de las esferas\n",
    "rho = np.log10(rho)\n",
    "#print rho\n"
   ]
  },
  {
   "cell_type": "code",
   "execution_count": 18,
   "metadata": {},
   "outputs": [
    {
     "data": {
      "text/plain": [
       "[<matplotlib.lines.Line2D at 0x7f29532bf050>]"
      ]
     },
     "execution_count": 18,
     "metadata": {},
     "output_type": "execute_result"
    },
    {
     "data": {
      "image/png": "[encoded data removed]",
      "text/plain": [
       "<matplotlib.figure.Figure at 0x7f2953358cd0>"
      ]
     },
     "metadata": {},
     "output_type": "display_data"
    }
   ],
   "source": [
    "plt.plot(np.log10(r_m),rho,'o')"
   ]
  }
 ],
 "metadata": {
  "kernelspec": {
   "display_name": "Python 2",
   "language": "python",
   "name": "python2"
  },
  "language_info": {
   "codemirror_mode": {
    "name": "ipython",
    "version": 2
   },
   "file_extension": ".py",
   "mimetype": "text/x-python",
   "name": "python",
   "nbconvert_exporter": "python",
   "pygments_lexer": "ipython2",
   "version": "2.7.14"
  }
 },
 "nbformat": 4,
 "nbformat_minor": 2
}
