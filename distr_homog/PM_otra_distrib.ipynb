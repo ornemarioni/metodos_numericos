{
 "cells": [
  {
   "cell_type": "code",
   "execution_count": 1,
   "metadata": {},
   "outputs": [
    {
     "name": "stdout",
     "output_type": "stream",
     "text": [
      "Populating the interactive namespace from numpy and matplotlib\n"
     ]
    }
   ],
   "source": [
    "%pylab inline"
   ]
  },
  {
   "cell_type": "code",
   "execution_count": 2,
   "metadata": {},
   "outputs": [],
   "source": [
    "import random as rm"
   ]
  },
  {
   "cell_type": "code",
   "execution_count": 89,
   "metadata": {},
   "outputs": [],
   "source": [
    "#-------------Distribucion 1/r^2---------------------------\n",
    "n = 1000\n",
    "#p = np.ndarray([n,4])\n",
    "p = np.ndarray([n,2])\n",
    "\n",
    "for i in range(n):\n",
    "    \n",
    "    r = rm.uniform(0, 1.)\n",
    "    ct = rm.uniform(-1, 1)\n",
    "    fi = rm.uniform(0, 2*np.pi)\n",
    "    \n",
    "    st = np.sqrt(1 - ct**2)\n",
    "        \n",
    "    x = r * st * np.cos(fi)\n",
    "    #y = r * st * np.sin(fi)\n",
    "    #z = r * ct\n",
    "    \n",
    "    #p[i,:] = [i,x,y,z]\n",
    "    p[i,:] = [i,x]\n",
    "\n",
    "#print p"
   ]
  },
  {
   "cell_type": "code",
   "execution_count": 94,
   "metadata": {},
   "outputs": [
    {
     "name": "stdout",
     "output_type": "stream",
     "text": [
      "[-1.   -0.99 -0.98 -0.97 -0.96 -0.95 -0.94 -0.93 -0.92 -0.91 -0.9  -0.89\n",
      " -0.88 -0.87 -0.86 -0.85 -0.84 -0.83 -0.82 -0.81 -0.8  -0.79 -0.78 -0.77\n",
      " -0.76 -0.75 -0.74 -0.73 -0.72 -0.71 -0.7  -0.69 -0.68 -0.67 -0.66 -0.65\n",
      " -0.64 -0.63 -0.62 -0.61 -0.6  -0.59 -0.58 -0.57 -0.56 -0.55 -0.54 -0.53\n",
      " -0.52 -0.51 -0.5  -0.49 -0.48 -0.47 -0.46 -0.45 -0.44 -0.43 -0.42 -0.41\n",
      " -0.4  -0.39 -0.38 -0.37 -0.36 -0.35 -0.34 -0.33 -0.32 -0.31 -0.3  -0.29\n",
      " -0.28 -0.27 -0.26 -0.25 -0.24 -0.23 -0.22 -0.21 -0.2  -0.19 -0.18 -0.17\n",
      " -0.16 -0.15 -0.14 -0.13 -0.12 -0.11 -0.1  -0.09 -0.08 -0.07 -0.06 -0.05\n",
      " -0.04 -0.03 -0.02 -0.01  0.    0.01  0.02  0.03  0.04  0.05  0.06  0.07\n",
      "  0.08  0.09  0.1   0.11  0.12  0.13  0.14  0.15  0.16  0.17  0.18  0.19\n",
      "  0.2   0.21  0.22  0.23  0.24  0.25  0.26  0.27  0.28  0.29  0.3   0.31\n",
      "  0.32  0.33  0.34  0.35  0.36  0.37  0.38  0.39  0.4   0.41  0.42  0.43\n",
      "  0.44  0.45  0.46  0.47  0.48  0.49  0.5   0.51  0.52  0.53  0.54  0.55\n",
      "  0.56  0.57  0.58  0.59  0.6   0.61  0.62  0.63  0.64  0.65  0.66  0.67\n",
      "  0.68  0.69  0.7   0.71  0.72  0.73  0.74  0.75  0.76  0.77  0.78  0.79\n",
      "  0.8   0.81  0.82  0.83  0.84  0.85  0.86  0.87  0.88  0.89  0.9   0.91\n",
      "  0.92  0.93  0.94  0.95  0.96  0.97  0.98  0.99  1.  ] 201\n"
     ]
    }
   ],
   "source": [
    "h = 0.01\n",
    "q = int(1./h + 1)\n",
    "l = int((q - 1))\n",
    "\n",
    "m = frange(-l,l,1)\n",
    "w = np.zeros(2*l)\n",
    "\n",
    "#print h*m, len(m)\n",
    "#print w, len(w)\n",
    "#print l\n"
   ]
  },
  {
   "cell_type": "code",
   "execution_count": 98,
   "metadata": {},
   "outputs": [],
   "source": [
    "for i in np.arange(n):\n",
    "    for j in np.arange(2*l):\n",
    "        if m[j]*h <= p[i,1] and p[i,1] < m[j+1]*h:\n",
    "            w[j] = w[j] + 1\n",
    "        elif m[2*l]*h <= p[i,1] and p[i,1] <= m[2*l]*h:\n",
    "            w[2*l] = w[2*l] + 1\n"
   ]
  },
  {
   "cell_type": "code",
   "execution_count": 102,
   "metadata": {},
   "outputs": [
    {
     "data": {
      "text/plain": [
       "[<matplotlib.lines.Line2D at 0x7fbe4013a0d0>]"
      ]
     },
     "execution_count": 102,
     "metadata": {},
     "output_type": "execute_result"
    },
    {
     "data": {
      "image/png": "[encoded data removed]",
      "text/plain": [
       "<matplotlib.figure.Figure at 0x7fbe402cc850>"
      ]
     },
     "metadata": {},
     "output_type": "display_data"
    }
   ],
   "source": [
    "plt.plot(w,'o')"
   ]
  },
  {
   "cell_type": "code",
   "execution_count": 100,
   "metadata": {},
   "outputs": [
    {
     "data": {
      "text/plain": [
       "1000.0"
      ]
     },
     "execution_count": 100,
     "metadata": {},
     "output_type": "execute_result"
    }
   ],
   "source": [
    "sum(w)"
   ]
  },
  {
   "cell_type": "code",
   "execution_count": 64,
   "metadata": {},
   "outputs": [
    {
     "name": "stdout",
     "output_type": "stream",
     "text": [
      "[ 8.  4.  4.  3.  5.  1.  2.  4.  3.  5.  7.  6.  7.  4.  1.  7. 10.  7.\n",
      "  5.  8.  9.  6.  6. 10.  8.  8.  7. 10. 11.  6.  8.  8.  7.  7. 10. 15.\n",
      " 13. 11.  5.  6. 10. 14. 10. 14. 17. 20.  6. 12. 17. 29. 25. 21. 30. 17.\n",
      " 20. 15.  9. 12.  9.  8.  8. 12. 10. 10. 12.  7.  4.  7.  8.  7. 12.  6.\n",
      "  8. 10. 13. 11. 12.  4. 10.  5.  4.  6.  2.  5.  7.  3.  4.  1.  2.  1.\n",
      "  1.  9.  3.  2.  6.  5.  6.  6. 10.  1. 99.]\n"
     ]
    }
   ],
   "source": []
  },
  {
   "cell_type": "code",
   "execution_count": null,
   "metadata": {},
   "outputs": [],
   "source": []
  }
 ],
 "metadata": {
  "kernelspec": {
   "display_name": "Python 2",
   "language": "python",
   "name": "python2"
  },
  "language_info": {
   "codemirror_mode": {
    "name": "ipython",
    "version": 2
   },
   "file_extension": ".py",
   "mimetype": "text/x-python",
   "name": "python",
   "nbconvert_exporter": "python",
   "pygments_lexer": "ipython2",
   "version": "2.7.14"
  }
 },
 "nbformat": 4,
 "nbformat_minor": 2
}
