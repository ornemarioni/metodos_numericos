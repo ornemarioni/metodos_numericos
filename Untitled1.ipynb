{
 "cells": [
  {
   "cell_type": "code",
   "execution_count": 1,
   "metadata": {},
   "outputs": [
    {
     "name": "stdout",
     "output_type": "stream",
     "text": [
      "Populating the interactive namespace from numpy and matplotlib\n"
     ]
    }
   ],
   "source": [
    "%pylab inline"
   ]
  },
  {
   "cell_type": "code",
   "execution_count": 11,
   "metadata": {},
   "outputs": [
    {
     "data": {
      "text/plain": [
       "11"
      ]
     },
     "execution_count": 11,
     "metadata": {},
     "output_type": "execute_result"
    }
   ],
   "source": [
    "(int(2./0.2)+1)"
   ]
  },
  {
   "cell_type": "code",
   "execution_count": 6,
   "metadata": {},
   "outputs": [
    {
     "data": {
      "text/plain": [
       "0.28"
      ]
     },
     "execution_count": 6,
     "metadata": {},
     "output_type": "execute_result"
    }
   ],
   "source": [
    "0.5-0.22"
   ]
  },
  {
   "cell_type": "code",
   "execution_count": 7,
   "metadata": {},
   "outputs": [
    {
     "data": {
      "text/plain": [
       "1.22"
      ]
     },
     "execution_count": 7,
     "metadata": {},
     "output_type": "execute_result"
    }
   ],
   "source": [
    "1+0.22"
   ]
  },
  {
   "cell_type": "code",
   "execution_count": 14,
   "metadata": {},
   "outputs": [
    {
     "data": {
      "text/plain": [
       "25.0"
      ]
     },
     "execution_count": 14,
     "metadata": {},
     "output_type": "execute_result"
    }
   ],
   "source": [
    "(1.-0.5)/0.02"
   ]
  },
  {
   "cell_type": "code",
   "execution_count": 16,
   "metadata": {},
   "outputs": [
    {
     "name": "stdout",
     "output_type": "stream",
     "text": [
      "3.14159265359\n"
     ]
    }
   ],
   "source": [
    "print pi"
   ]
  },
  {
   "cell_type": "code",
   "execution_count": 28,
   "metadata": {},
   "outputs": [
    {
     "name": "stdout",
     "output_type": "stream",
     "text": [
      "5.15032269364\n"
     ]
    },
    {
     "data": {
      "image/png": "[encoded data removed]",
      "text/plain": [
       "<matplotlib.figure.Figure at 0x7f06f5815510>"
      ]
     },
     "metadata": {},
     "output_type": "display_data"
    }
   ],
   "source": [
    "dt = [0.2, 0.1, 0.05]\n",
    "k=0\n",
    "vd   = 0.001\n",
    "t0   = 1.\n",
    "t1   = 3.\n",
    "dx   = 0.02\n",
    "aux  = int(2./dt[k])+1\n",
    "\n",
    "xmin = 0.5\n",
    "xmax = 1.\n",
    "\n",
    "x = frange(xmin, xmax,dx)\n",
    "\n",
    "n = 1e6\n",
    "\n",
    "s0 = 0.\n",
    "s1 = 0.\n",
    "for i in range(1,int(n)):\n",
    "    q1 = np.sin(pi*i/2.)\n",
    "    q2 = np.sin(i*pi*x)\n",
    "    q3 = np.exp(-vd*t0*(pi*i)**2)\n",
    "    s0 = s0 + q1*q2*q3\n",
    "    \n",
    "    q4 = np.exp(-vd*t1*(pi*i)**2)\n",
    "    s1 = s1 + q1*q2*q4\n",
    "\n",
    "w0 = 2*s0\n",
    "w1 = 2*s1\n",
    "\n",
    "\n",
    "plt.plot(x,w1)\n",
    "plt.plot(x,w0)\n",
    "plt.xlim(0.5,1.)\n",
    "plt.ylim(0.,10.)\n",
    "\n",
    "print w1[0]"
   ]
  },
  {
   "cell_type": "code",
   "execution_count": 27,
   "metadata": {},
   "outputs": [
    {
     "data": {
      "text/plain": [
       "array([  5.15032269e+00,   5.10758167e+00,   4.98147503e+00,\n",
       "         4.77817833e+00,   4.50742501e+00,   4.18173419e+00,\n",
       "         3.81545289e+00,   3.42371438e+00,   3.02141734e+00,\n",
       "         2.62231987e+00,   2.23832102e+00,   1.87897429e+00,\n",
       "         1.55124738e+00,   1.25951413e+00,   1.00574246e+00,\n",
       "         7.89827566e-01,   6.10013640e-01,   4.63349356e-01,\n",
       "         3.46130077e-01,   2.54291518e-01,   1.83732578e-01,\n",
       "         1.30557619e-01,   9.12388978e-02,   6.27075163e-02,\n",
       "         4.23858530e-02,   2.81763033e-02,   1.84208158e-02,\n",
       "         1.18439199e-02,   7.48934480e-03,   4.65751162e-03,\n",
       "         2.84856298e-03,   1.71340277e-03,   1.01357260e-03,\n",
       "         5.89674052e-04,   3.37389010e-04,   1.89850438e-04,\n",
       "         1.05064025e-04,   5.71818532e-05,   3.06072404e-05,\n",
       "         1.61120899e-05,   8.34144563e-06,   4.24709955e-06,\n",
       "         2.12669325e-06,   1.04731319e-06,   5.07220832e-07,\n",
       "         2.41552008e-07,   1.13037365e-07,   5.17917628e-08,\n",
       "         2.27826500e-08,   8.53912125e-09,  -2.55860546e-16])"
      ]
     },
     "execution_count": 27,
     "metadata": {},
     "output_type": "execute_result"
    }
   ],
   "source": [
    "w1"
   ]
  },
  {
   "cell_type": "code",
   "execution_count": null,
   "metadata": {},
   "outputs": [],
   "source": []
  }
 ],
 "metadata": {
  "kernelspec": {
   "display_name": "Python 2",
   "language": "python",
   "name": "python2"
  },
  "language_info": {
   "codemirror_mode": {
    "name": "ipython",
    "version": 2
   },
   "file_extension": ".py",
   "mimetype": "text/x-python",
   "name": "python",
   "nbconvert_exporter": "python",
   "pygments_lexer": "ipython2",
   "version": "2.7.14"
  }
 },
 "nbformat": 4,
 "nbformat_minor": 2
}
