{
 "cells": [
  {
   "cell_type": "code",
   "execution_count": 28,
   "metadata": {},
   "outputs": [
    {
     "name": "stdout",
     "output_type": "stream",
     "text": [
      "Populating the interactive namespace from numpy and matplotlib\n"
     ]
    }
   ],
   "source": [
    "%pylab inline"
   ]
  },
  {
   "cell_type": "code",
   "execution_count": 133,
   "metadata": {},
   "outputs": [
    {
     "name": "stdout",
     "output_type": "stream",
     "text": [
      "639.065788226\n"
     ]
    }
   ],
   "source": [
    "G = 4.299e-6\n",
    "\n",
    "e = 0.9\n",
    "a = 10./(1-e)\n",
    "\n",
    "m = np.array([5e11, 1e5])\n",
    "\n",
    "mu = G *(m[0]+m[1])\n",
    "n = np.sqrt(mu/a**3)\n",
    "\n",
    "vp = n * a * np.sqrt((1+e)/(1-e))\n",
    "# vp=0.\n",
    "print vp"
   ]
  },
  {
   "cell_type": "code",
   "execution_count": 134,
   "metadata": {},
   "outputs": [
    {
     "name": "stdout",
     "output_type": "stream",
     "text": [
      "4.28559473878\n"
     ]
    }
   ],
   "source": [
    "T = 2*pi/n\n",
    "print T"
   ]
  },
  {
   "cell_type": "code",
   "execution_count": 135,
   "metadata": {},
   "outputs": [],
   "source": [
    "pos = np.array([[0.,0.,0.],[10.,0.,0.]])\n",
    "\n",
    "vel = np.array([[0.,0.,0.],[0.,vp,0.]])\n"
   ]
  },
  {
   "cell_type": "code",
   "execution_count": 136,
   "metadata": {},
   "outputs": [
    {
     "name": "stdout",
     "output_type": "stream",
     "text": [
      "[[  0.   0.   0.]\n",
      " [ 10.   0.   0.]]\n"
     ]
    }
   ],
   "source": [
    "print pos"
   ]
  },
  {
   "cell_type": "code",
   "execution_count": 137,
   "metadata": {},
   "outputs": [
    {
     "data": {
      "text/plain": [
       "[<matplotlib.lines.Line2D at 0x7f4bc61d9450>]"
      ]
     },
     "execution_count": 137,
     "metadata": {},
     "output_type": "execute_result"
    },
    {
     "data": {
      "image/png": "[encoded data removed]",
      "text/plain": [
       "<matplotlib.figure.Figure at 0x7f4bc2849850>"
      ]
     },
     "metadata": {},
     "output_type": "display_data"
    }
   ],
   "source": [
    "plt.plot(pos[:,0],pos[:,1],'o')"
   ]
  },
  {
   "cell_type": "code",
   "execution_count": 138,
   "metadata": {},
   "outputs": [],
   "source": [
    "import aceleraciones as ac\n",
    "eps = 0.5\n",
    "acel = ac.aceleraciones(eps,pos[:,0],pos[:,1],pos[:,2],m)"
   ]
  },
  {
   "cell_type": "code",
   "execution_count": 139,
   "metadata": {},
   "outputs": [
    {
     "name": "stdout",
     "output_type": "stream",
     "text": [
      "[[  4.28292898e-03   0.00000000e+00   0.00000000e+00]\n",
      " [ -2.14146449e+04   0.00000000e+00   0.00000000e+00]]\n"
     ]
    }
   ],
   "source": [
    "print acel"
   ]
  },
  {
   "cell_type": "code",
   "execution_count": 148,
   "metadata": {},
   "outputs": [],
   "source": [
    "dt = 0.001\n",
    "nit = 10000\n",
    "eps=0.5"
   ]
  },
  {
   "cell_type": "markdown",
   "metadata": {},
   "source": [
    "# EULER"
   ]
  },
  {
   "cell_type": "code",
   "execution_count": 155,
   "metadata": {},
   "outputs": [],
   "source": [
    "import euler\n",
    "\n",
    "posf,velf,acf = euler.euler(eps,dt,nit,m,pos,vel,acel)"
   ]
  },
  {
   "cell_type": "code",
   "execution_count": 156,
   "metadata": {},
   "outputs": [
    {
     "data": {
      "image/png": "[encoded data removed]",
      "text/plain": [
       "<matplotlib.figure.Figure at 0x7f4bc53d3610>"
      ]
     },
     "metadata": {},
     "output_type": "display_data"
    }
   ],
   "source": [
    "path = '/home/omarioni/metodos_numericos/_data/P2C/euler/'\n",
    "for i in np.arange(0,nit,10):\n",
    "    posf = np.loadtxt(path+'posiciones'+str('%s'%i)+'.dat')\n",
    "#     velf = np.loadtxt(path+'velocidades'+str('%s'%i)+'.dat')\n",
    "    plt.plot(posf[1,0],posf[1,1],'.k', markersize=0.5)\n",
    "    plt.plot(posf[0,0],posf[0,1],'.r')"
   ]
  },
  {
   "cell_type": "code",
   "execution_count": 70,
   "metadata": {},
   "outputs": [
    {
     "data": {
      "text/plain": [
       "(array([[  0.,   0.,   0.],\n",
       "        [ 10.,   0.,   0.]]),\n",
       " array([[  3.00000000e-06,   9.10000000e-05,   0.00000000e+00],\n",
       "        [ -4.24375900e+00,   9.09868600e+00,   0.00000000e+00]]))"
      ]
     },
     "execution_count": 70,
     "metadata": {},
     "output_type": "execute_result"
    }
   ],
   "source": [
    "pos, posf"
   ]
  },
  {
   "cell_type": "code",
   "execution_count": 157,
   "metadata": {},
   "outputs": [],
   "source": [
    "import energia_potencial as ep\n",
    "Uff = np.zeros(nit/10)\n",
    "Kff = np.zeros(nit/10)\n",
    "path = '/home/omarioni/metodos_numericos/_data/P2C/euler/'\n",
    "k=0\n",
    "for i in np.arange(0,nit,10):\n",
    "    posf = np.loadtxt(path+'posiciones'+str('%s'%i)+'.dat')\n",
    "    velf = np.loadtxt(path+'velocidades'+str('%s'%i)+'.dat')\n",
    "    \n",
    "    Uf = ep.epot(eps,posf[:,0],posf[:,1],posf[:,2],m)\n",
    "    Kf= 0.5*m*(velf[:,0]**2 + velf[:,1]**2 + velf[:,2]**2)\n",
    "\n",
    "    Uff[k] = np.sum(Uf,axis=0)\n",
    "    Kff[k] = np.sum(Kf,axis=0)\n",
    "    k += 1\n",
    "    \n",
    "Ef = Kff - 0.5*Uff\n",
    "# print len(Uf)\n",
    "#     print Uf, Kf"
   ]
  },
  {
   "cell_type": "code",
   "execution_count": 158,
   "metadata": {},
   "outputs": [],
   "source": [
    "dE = np.zeros(len(Ef)-1)\n",
    "\n",
    "for i in np.arange(len(Ef)-1):\n",
    "    dE[i] = (Ef[i+1] - Ef[0])/abs(Ef[0])\n",
    "\n",
    "# print dE\n",
    "\n",
    "time = dt*np.arange(5,nit-5,10)"
   ]
  },
  {
   "cell_type": "code",
   "execution_count": 159,
   "metadata": {},
   "outputs": [
    {
     "data": {
      "text/plain": [
       "[<matplotlib.lines.Line2D at 0x7f4bc5c7c150>]"
      ]
     },
     "execution_count": 159,
     "metadata": {},
     "output_type": "execute_result"
    },
    {
     "data": {
      "image/png": "[encoded data removed]",
      "text/plain": [
       "<matplotlib.figure.Figure at 0x7f4bc55b1d10>"
      ]
     },
     "metadata": {},
     "output_type": "display_data"
    }
   ],
   "source": [
    "plt.plot(time,dE,'.k')"
   ]
  },
  {
   "cell_type": "code",
   "execution_count": 160,
   "metadata": {},
   "outputs": [
    {
     "data": {
      "text/plain": [
       "[<matplotlib.lines.Line2D at 0x7f4bc4942750>]"
      ]
     },
     "execution_count": 160,
     "metadata": {},
     "output_type": "execute_result"
    },
    {
     "data": {
      "image/png": "[encoded data removed]",
      "text/plain": [
       "<matplotlib.figure.Figure at 0x7f4bc53f0d90>"
      ]
     },
     "metadata": {},
     "output_type": "display_data"
    }
   ],
   "source": [
    "time = dt*np.arange(0,nit,10)\n",
    "\n",
    "plt.plot(time,Ef,'.k')\n",
    "plt.plot(time,Kff,'.r')\n",
    "plt.plot(time,-0.5*Uff,'.b')"
   ]
  },
  {
   "cell_type": "markdown",
   "metadata": {},
   "source": [
    "# RUNGE"
   ]
  },
  {
   "cell_type": "code",
   "execution_count": 162,
   "metadata": {},
   "outputs": [],
   "source": [
    "import runge\n",
    "    \n",
    "posf,velf,acf = runge.rungek(eps,dt,nit,m,pos,vel,acel)"
   ]
  },
  {
   "cell_type": "code",
   "execution_count": 163,
   "metadata": {},
   "outputs": [
    {
     "data": {
      "image/png": "[encoded data removed]",
      "text/plain": [
       "<matplotlib.figure.Figure at 0x7f4bc5a82790>"
      ]
     },
     "metadata": {},
     "output_type": "display_data"
    }
   ],
   "source": [
    "path = '/home/omarioni/metodos_numericos/_data/P2C/runge/'\n",
    "for i in np.arange(0,nit,10):\n",
    "    posf = np.loadtxt(path+'posiciones'+str('%s'%i)+'.dat')\n",
    "#     velf = np.loadtxt(path+'velocidades'+str('%s'%i)+'.dat')\n",
    "    plt.plot(posf[1,0],posf[1,1],'.k', markersize=0.5)\n",
    "    plt.plot(posf[0,0],posf[0,1],'.r')"
   ]
  },
  {
   "cell_type": "code",
   "execution_count": 164,
   "metadata": {},
   "outputs": [],
   "source": [
    "import energia_potencial as ep\n",
    "Uff = np.zeros(nit/10)\n",
    "Kff = np.zeros(nit/10)\n",
    "path = '/home/omarioni/metodos_numericos/_data/P2C/runge/'\n",
    "k=0\n",
    "for i in np.arange(0,nit,10):\n",
    "    posf = np.loadtxt(path+'posiciones'+str('%s'%i)+'.dat')\n",
    "    velf = np.loadtxt(path+'velocidades'+str('%s'%i)+'.dat')\n",
    "    \n",
    "    Uf = ep.epot(eps,posf[:,0],posf[:,1],posf[:,2],m)\n",
    "    Kf= 0.5*m*(velf[:,0]**2 + velf[:,1]**2 + velf[:,2]**2)\n",
    "\n",
    "    Uff[k] = np.sum(Uf,axis=0)\n",
    "    Kff[k] = np.sum(Kf,axis=0)\n",
    "    k += 1\n",
    "    \n",
    "Ef = Kff - 0.5*Uff\n",
    "# print len(Uf)\n",
    "#     print Uf, Kf"
   ]
  },
  {
   "cell_type": "code",
   "execution_count": 165,
   "metadata": {},
   "outputs": [],
   "source": [
    "dE = np.zeros(len(Ef)-1)\n",
    "\n",
    "for i in np.arange(len(Ef)-1):\n",
    "    dE[i] = (Ef[i+1] - Ef[0])/abs(Ef[0])\n",
    "\n",
    "# print dE\n",
    "\n",
    "time = dt*np.arange(5,nit-5,10)\n",
    "# time = dt*np.arange(0,nit,10)"
   ]
  },
  {
   "cell_type": "code",
   "execution_count": 166,
   "metadata": {},
   "outputs": [
    {
     "data": {
      "text/plain": [
       "[<matplotlib.lines.Line2D at 0x7f4bc5e1ead0>]"
      ]
     },
     "execution_count": 166,
     "metadata": {},
     "output_type": "execute_result"
    },
    {
     "data": {
      "image/png": "[encoded data removed]",
      "text/plain": [
       "<matplotlib.figure.Figure at 0x7f4bc4579650>"
      ]
     },
     "metadata": {},
     "output_type": "display_data"
    }
   ],
   "source": [
    "plt.plot(time,dE,'.k')\n",
    "# plt.ylim(-1,1)"
   ]
  },
  {
   "cell_type": "code",
   "execution_count": 167,
   "metadata": {},
   "outputs": [
    {
     "data": {
      "text/plain": [
       "[<matplotlib.lines.Line2D at 0x7f4bc5c1a090>]"
      ]
     },
     "execution_count": 167,
     "metadata": {},
     "output_type": "execute_result"
    },
    {
     "data": {
      "image/png": "[encoded data removed]",
      "text/plain": [
       "<matplotlib.figure.Figure at 0x7f4bc5e3e350>"
      ]
     },
     "metadata": {},
     "output_type": "display_data"
    }
   ],
   "source": [
    "time = dt*np.arange(0,nit,10)\n",
    "\n",
    "plt.plot(time,Ef,'.k')\n",
    "plt.plot(time,Kff,'.r')\n",
    "plt.plot(time,-0.5*Uff,'.b')"
   ]
  },
  {
   "cell_type": "markdown",
   "metadata": {},
   "source": [
    "# LEAPFROG -KDK"
   ]
  },
  {
   "cell_type": "code",
   "execution_count": 149,
   "metadata": {},
   "outputs": [],
   "source": [
    "import LF \n",
    "    \n",
    "posf,velf,acf = LF.KDK(eps,dt,nit,m,pos,vel,acel)"
   ]
  },
  {
   "cell_type": "code",
   "execution_count": 142,
   "metadata": {},
   "outputs": [
    {
     "name": "stdout",
     "output_type": "stream",
     "text": [
      "[[  0.   0.   0.]\n",
      " [ 10.   0.   0.]] [[  3.19122609e-05   1.20381993e-04   0.00000000e+00]\n",
      " [ -1.49561304e+02   3.71558229e+01   0.00000000e+00]]\n"
     ]
    }
   ],
   "source": [
    "print pos, posf"
   ]
  },
  {
   "cell_type": "code",
   "execution_count": 150,
   "metadata": {},
   "outputs": [
    {
     "data": {
      "image/png": "[encoded data removed]",
      "text/plain": [
       "<matplotlib.figure.Figure at 0x7f4bc29fbc50>"
      ]
     },
     "metadata": {},
     "output_type": "display_data"
    }
   ],
   "source": [
    "path = '/home/omarioni/metodos_numericos/_data/P2C/KDK/'\n",
    "for i in np.arange(0,nit,10):\n",
    "    posf = np.loadtxt(path+'posiciones'+str('%s'%i)+'.dat')\n",
    "#     velf = np.loadtxt(path+'velocidades'+str('%s'%i)+'.dat')\n",
    "    plt.plot(posf[1,0],posf[1,1],'.k', markersize=0.5)\n",
    "    plt.plot(posf[0,0],posf[0,1],'.r')"
   ]
  },
  {
   "cell_type": "code",
   "execution_count": 151,
   "metadata": {},
   "outputs": [],
   "source": [
    "import energia_potencial as ep\n",
    "Uff = np.zeros(nit/10)\n",
    "Kff = np.zeros(nit/10)\n",
    "path = '/home/omarioni/metodos_numericos/_data/P2C/KDK/'\n",
    "k=0\n",
    "for i in np.arange(0,nit,10):\n",
    "    posf = np.loadtxt(path+'posiciones'+str('%s'%i)+'.dat')\n",
    "    velf = np.loadtxt(path+'velocidades'+str('%s'%i)+'.dat')\n",
    "    \n",
    "    Uf = ep.epot(eps,posf[:,0],posf[:,1],posf[:,2],m)\n",
    "    Kf= 0.5*m*(velf[:,0]**2 + velf[:,1]**2 + velf[:,2]**2)\n",
    "\n",
    "    Uff[k] = np.sum(Uf,axis=0)\n",
    "    Kff[k] = np.sum(Kf,axis=0)\n",
    "    k += 1\n",
    "    \n",
    "Ef = Kff - 0.5*Uff\n",
    "# print len(Uf)\n",
    "#     print Uf, Kf"
   ]
  },
  {
   "cell_type": "code",
   "execution_count": 152,
   "metadata": {},
   "outputs": [],
   "source": [
    "dE = np.zeros(len(Ef)-1)\n",
    "\n",
    "for i in np.arange(len(Ef)-1):\n",
    "    dE[i] = (Ef[i+1] - Ef[0])/abs(Ef[0])\n",
    "\n",
    "# print dE\n",
    "\n",
    "time = dt*np.arange(5,nit-5,10)\n",
    "# time = dt*np.arange(0,nit,10)"
   ]
  },
  {
   "cell_type": "code",
   "execution_count": 153,
   "metadata": {},
   "outputs": [
    {
     "data": {
      "text/plain": [
       "[<matplotlib.lines.Line2D at 0x7f4bc528a510>]"
      ]
     },
     "execution_count": 153,
     "metadata": {},
     "output_type": "execute_result"
    },
    {
     "data": {
      "image/png": "[encoded data removed]",
      "text/plain": [
       "<matplotlib.figure.Figure at 0x7f4bc616cad0>"
      ]
     },
     "metadata": {},
     "output_type": "display_data"
    }
   ],
   "source": [
    "plt.plot(time,dE,'.k')"
   ]
  },
  {
   "cell_type": "code",
   "execution_count": 154,
   "metadata": {},
   "outputs": [
    {
     "data": {
      "text/plain": [
       "[<matplotlib.lines.Line2D at 0x7f4bc616ce90>]"
      ]
     },
     "execution_count": 154,
     "metadata": {},
     "output_type": "execute_result"
    },
    {
     "data": {
      "image/png": "[encoded data removed]",
      "text/plain": [
       "<matplotlib.figure.Figure at 0x7f4bc2e94610>"
      ]
     },
     "metadata": {},
     "output_type": "display_data"
    }
   ],
   "source": [
    "time = dt*np.arange(0,nit,10)\n",
    "\n",
    "plt.plot(time,Ef,'.k')\n",
    "plt.plot(time,Kff,'.r')\n",
    "plt.plot(time,-0.5*Uff,'.b')"
   ]
  },
  {
   "cell_type": "markdown",
   "metadata": {},
   "source": [
    "# LEAPFROG -DKD"
   ]
  },
  {
   "cell_type": "code",
   "execution_count": 168,
   "metadata": {},
   "outputs": [],
   "source": [
    "import LF \n",
    "    \n",
    "posf,velf,acf = LF.DKD(eps,dt,nit,m,pos,vel,acel)"
   ]
  },
  {
   "cell_type": "code",
   "execution_count": 169,
   "metadata": {},
   "outputs": [
    {
     "data": {
      "image/png": "[encoded data removed]",
      "text/plain": [
       "<matplotlib.figure.Figure at 0x7f4bc5a54550>"
      ]
     },
     "metadata": {},
     "output_type": "display_data"
    }
   ],
   "source": [
    "path = '/home/omarioni/metodos_numericos/_data/P2C/DKD/'\n",
    "for i in np.arange(0,nit,10):\n",
    "    posf = np.loadtxt(path+'posiciones'+str('%s'%i)+'.dat')\n",
    "#     velf = np.loadtxt(path+'velocidades'+str('%s'%i)+'.dat')\n",
    "    plt.plot(posf[1,0],posf[1,1],'.k', markersize=0.5)\n",
    "    plt.plot(posf[0,0],posf[0,1],'.r')"
   ]
  },
  {
   "cell_type": "code",
   "execution_count": 170,
   "metadata": {},
   "outputs": [],
   "source": [
    "import energia_potencial as ep\n",
    "Uff = np.zeros(nit/10)\n",
    "Kff = np.zeros(nit/10)\n",
    "path = '/home/omarioni/metodos_numericos/_data/P2C/DKD/'\n",
    "k=0\n",
    "for i in np.arange(0,nit,10):\n",
    "    posf = np.loadtxt(path+'posiciones'+str('%s'%i)+'.dat')\n",
    "    velf = np.loadtxt(path+'velocidades'+str('%s'%i)+'.dat')\n",
    "    \n",
    "    Uf = ep.epot(eps,posf[:,0],posf[:,1],posf[:,2],m)\n",
    "    Kf= 0.5*m*(velf[:,0]**2 + velf[:,1]**2 + velf[:,2]**2)\n",
    "\n",
    "    Uff[k] = np.sum(Uf,axis=0)\n",
    "    Kff[k] = np.sum(Kf,axis=0)\n",
    "    k += 1\n",
    "    \n",
    "Ef = Kff - 0.5*Uff\n",
    "# print len(Uf)\n",
    "#     print Uf, Kf"
   ]
  },
  {
   "cell_type": "code",
   "execution_count": 171,
   "metadata": {},
   "outputs": [],
   "source": [
    "dE = np.zeros(len(Ef)-1)\n",
    "\n",
    "for i in np.arange(len(Ef)-1):\n",
    "    dE[i] = (Ef[i+1] - Ef[0])/abs(Ef[0])\n",
    "\n",
    "# print dE\n",
    "\n",
    "time = dt*np.arange(5,nit-5,10)\n",
    "# time = dt*np.arange(0,nit,10)"
   ]
  },
  {
   "cell_type": "code",
   "execution_count": 172,
   "metadata": {},
   "outputs": [
    {
     "data": {
      "text/plain": [
       "[<matplotlib.lines.Line2D at 0x7f4bc63b3110>]"
      ]
     },
     "execution_count": 172,
     "metadata": {},
     "output_type": "execute_result"
    },
    {
     "data": {
      "image/png": "[encoded data removed]",
      "text/plain": [
       "<matplotlib.figure.Figure at 0x7f4bc4085dd0>"
      ]
     },
     "metadata": {},
     "output_type": "display_data"
    }
   ],
   "source": [
    "plt.plot(time,dE,'.k')"
   ]
  },
  {
   "cell_type": "code",
   "execution_count": 173,
   "metadata": {},
   "outputs": [
    {
     "data": {
      "text/plain": [
       "[<matplotlib.lines.Line2D at 0x7f4bc5fc2fd0>]"
      ]
     },
     "execution_count": 173,
     "metadata": {},
     "output_type": "execute_result"
    },
    {
     "data": {
      "image/png": "[encoded data removed]",
      "text/plain": [
       "<matplotlib.figure.Figure at 0x7f4bc64ec9d0>"
      ]
     },
     "metadata": {},
     "output_type": "display_data"
    }
   ],
   "source": [
    "time = dt*np.arange(0,nit,10)\n",
    "\n",
    "plt.plot(time,Ef,'.k')\n",
    "plt.plot(time,Kff,'.r')\n",
    "plt.plot(time,-0.5*Uff,'.b')"
   ]
  },
  {
   "cell_type": "code",
   "execution_count": null,
   "metadata": {},
   "outputs": [],
   "source": []
  }
 ],
 "metadata": {
  "kernelspec": {
   "display_name": "Python 2",
   "language": "python",
   "name": "python2"
  },
  "language_info": {
   "codemirror_mode": {
    "name": "ipython",
    "version": 2
   },
   "file_extension": ".py",
   "mimetype": "text/x-python",
   "name": "python",
   "nbconvert_exporter": "python",
   "pygments_lexer": "ipython2",
   "version": "2.7.13"
  }
 },
 "nbformat": 4,
 "nbformat_minor": 2
}
