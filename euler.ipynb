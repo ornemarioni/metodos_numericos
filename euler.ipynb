{
 "cells": [
  {
   "cell_type": "code",
   "execution_count": 62,
   "metadata": {},
   "outputs": [
    {
     "name": "stdout",
     "output_type": "stream",
     "text": [
      "Populating the interactive namespace from numpy and matplotlib\n"
     ]
    }
   ],
   "source": [
    "%pylab inline"
   ]
  },
  {
   "cell_type": "code",
   "execution_count": 63,
   "metadata": {},
   "outputs": [],
   "source": [
    "import random\n",
    "\n",
    "N   = 100\n",
    "aux = frange(0,1,0.001)\n",
    "x   = np.random.choice(aux, N, replace = True)\n",
    "y   = np.random.choice(aux, N, replace = True)\n",
    "z   = np.random.choice(aux, N, replace = True)\n",
    "\n",
    "vx  = np.random.choice(aux, N, replace = True)\n",
    "vy  = np.random.choice(aux, N, replace = True)\n",
    "vz  = np.random.choice(aux, N, replace = True)\n",
    "\n",
    "x = x*100\n",
    "y = y*100\n",
    "z = z*100\n",
    "\n",
    "vx = vx*400 + 100\n",
    "vy = vy*400 + 100\n",
    "vz = vz*400 + 100"
   ]
  },
  {
   "cell_type": "code",
   "execution_count": 64,
   "metadata": {},
   "outputs": [],
   "source": [
    "W = np.ndarray([N,6])\n",
    "W[:,0]=x\n",
    "W[:,1]=y\n",
    "W[:,2]=z\n",
    "W[:,3]=vx\n",
    "W[:,4]=vy\n",
    "W[:,5]=vz\n",
    "# print W"
   ]
  },
  {
   "cell_type": "code",
   "execution_count": 65,
   "metadata": {},
   "outputs": [
    {
     "data": {
      "text/plain": [
       "[<matplotlib.lines.Line2D at 0x7f5c13149310>]"
      ]
     },
     "execution_count": 65,
     "metadata": {},
     "output_type": "execute_result"
    },
    {
     "data": {
      "image/png": "[encoded data removed]",
      "text/plain": [
       "<matplotlib.figure.Figure at 0x7f5c13502cd0>"
      ]
     },
     "metadata": {},
     "output_type": "display_data"
    }
   ],
   "source": [
    "plt.plot(W[:,0],W[:,1],'o')"
   ]
  },
  {
   "cell_type": "code",
   "execution_count": 66,
   "metadata": {},
   "outputs": [],
   "source": [
    "m = np.ones(len(x))*1e10\n",
    "# m[0] = 1e20"
   ]
  },
  {
   "cell_type": "code",
   "execution_count": 67,
   "metadata": {},
   "outputs": [],
   "source": [
    "#calculamos la aceleracion\n",
    "\n",
    "from aceleracion import *\n",
    "\n",
    "ax, ay, az = aceleracion.a_str(m,x,y,z,N)\n",
    "\n",
    "# d = np.ndarray([np.size(a),3])\n",
    "# d[:,0] = u_str\n",
    "# d[:,1] = u_gas\n",
    "# d[:,2] = u_drk\n",
    "# np.savetxt('energia_potencial0.dat', d, '%12.6f', '\\t')"
   ]
  },
  {
   "cell_type": "code",
   "execution_count": 68,
   "metadata": {},
   "outputs": [
    {
     "name": "stdout",
     "output_type": "stream",
     "text": [
      "[ -2.79815710e+14  -4.19129887e+15  -4.92367051e+15  -4.23523423e+15\n",
      "  -1.43768755e+15  -4.53271951e+15  -4.00406755e+15  -1.55484943e+15\n",
      "  -1.71103276e+14  -5.47911394e+15  -3.55764167e+15  -3.50772153e+15\n",
      "  -3.01080939e+15  -3.29453761e+15  -5.69836074e+15  -5.60979771e+14\n",
      "  -2.64735959e+15  -2.64008392e+15  -2.83008038e+15  -3.27293849e+15\n",
      "  -5.04808659e+15  -1.02868621e+15  -5.68344164e+15  -1.69468169e+14\n",
      "  -3.40155773e+15  -4.63036720e+15  -4.65984758e+14  -2.27587123e+15\n",
      "  -3.04208104e+15  -2.66054944e+15  -4.02705368e+15  -3.20682149e+15\n",
      "  -1.77609004e+15  -9.34739033e+14  -3.83812183e+15  -7.58757915e+14\n",
      "  -4.96290289e+15  -1.72565330e+15  -4.37566060e+15  -8.80519298e+13\n",
      "  -1.62968910e+15  -5.39738340e+15  -4.34415917e+15  -1.61059730e+15\n",
      "  -2.39810640e+14  -3.61644380e+15  -2.33254761e+15  -3.83307631e+15\n",
      "  -5.47911286e+15  -9.32798244e+14  -3.68286735e+15  -6.02493932e+15\n",
      "  -1.02800398e+15  -2.22246002e+14  -3.35115951e+15  -5.05284595e+15\n",
      "  -1.81486353e+15  -4.18582976e+15  -2.06382144e+15  -2.18074834e+14\n",
      "  -8.65070502e+14  -2.08442883e+15  -2.96025494e+15  -2.00209135e+15\n",
      "  -2.27587123e+15  -1.25211425e+14  -2.46524009e+15  -1.44616206e+15\n",
      "  -3.06433246e+15  -2.39032680e+14  -4.81774481e+15  -3.99739800e+15\n",
      "  -2.46316374e+15  -2.95269687e+15  -2.35307618e+14  -1.93837847e+14\n",
      "  -2.64740979e+15  -4.39369490e+15  -2.95726618e+14  -1.59131169e+15\n",
      "  -1.79724678e+15  -3.27326294e+13  -5.44376206e+15  -5.38061208e+15\n",
      "  -5.09243427e+15  -1.08129063e+15  -4.00773706e+15  -4.96662341e+15\n",
      "  -1.44620354e+15  -3.44787304e+15  -6.37865860e+14  -2.66054836e+15\n",
      "  -3.47855710e+15  -3.27390942e+15  -3.29272347e+13  -4.80373785e+15\n",
      "  -3.02197496e+15  -5.06225193e+15  -4.79516295e+15  -2.06310069e+15] [ -1.47887549e+15  -3.06945153e+15  -3.10196201e+15  -1.18795252e+15\n",
      "  -1.99072674e+15  -8.57797646e+14  -1.00424716e+14  -1.83828425e+15\n",
      "  -3.55945522e+15  -2.20720906e+15  -1.16603544e+15  -3.67779204e+15\n",
      "  -5.73183143e+15  -3.13017324e+15  -3.18396985e+15  -1.15273768e+15\n",
      "  -1.66194887e+15  -1.73040394e+15  -2.23254598e+14  -5.55049415e+15\n",
      "  -4.05066123e+15  -1.74200370e+15  -9.67437894e+14  -3.38106644e+15\n",
      "  -6.29919392e+15  -6.18061187e+13  -1.60935391e+15  -1.35881048e+15\n",
      "  -8.04262691e+14  -1.60161397e+15  -5.99943527e+15  -1.81763580e+15\n",
      "  -9.89335046e+14  -1.86092759e+15  -5.95734083e+15  -3.99472694e+14\n",
      "  -2.96435556e+15  -1.52945342e+15  -2.86102133e+15  -2.69502299e+15\n",
      "  -1.48470188e+15  -3.91792071e+15  -1.18097951e+15  -1.73173229e+15\n",
      "  -2.34878018e+15  -1.71364981e+15  -1.74029941e+15  -5.42913340e+15\n",
      "  -2.06760531e+15  -8.05092224e+14  -2.61353709e+13  -4.58599213e+15\n",
      "  -2.64406052e+15  -3.19534641e+15  -5.35925952e+14  -4.15349215e+15\n",
      "  -5.29309944e+15  -1.90273440e+15  -2.86228432e+15  -3.07949504e+15\n",
      "  -3.71502994e+15  -1.09626504e+15  -6.41103433e+15  -8.02964520e+13\n",
      "  -1.72986895e+15  -2.67602877e+15  -2.59174648e+15  -2.51280686e+15\n",
      "  -1.13430476e+15  -6.63950404e+15  -1.59642753e+15  -5.99943527e+15\n",
      "  -5.70363228e+15  -6.42410714e+15  -3.91792098e+15  -1.63820200e+15\n",
      "  -5.55873887e+15  -1.58094713e+15  -3.22434603e+15  -2.06094167e+15\n",
      "  -2.32239512e+15  -5.07951770e+15  -1.73173175e+15  -1.06750090e+15\n",
      "  -7.39411168e+14  -1.59540171e+15  -3.98423232e+15  -2.02494582e+15\n",
      "  -2.07603177e+15  -2.82752864e+15  -6.63950404e+15  -2.54923730e+15\n",
      "  -1.61082279e+15  -9.20610218e+13  -2.32003960e+15  -2.26343891e+15\n",
      "  -2.78927524e+15  -5.42913394e+15  -2.70438736e+15  -1.90872199e+15] [ -4.62612968e+15  -1.79210342e+15  -2.85067529e+15  -3.34304524e+15\n",
      "  -4.30144679e+15  -2.28840501e+15  -1.47080551e+14  -4.28598088e+15\n",
      "  -2.71128884e+15  -5.19047979e+15  -7.07139992e+14  -3.19087267e+15\n",
      "  -4.98649407e+15  -2.13879547e+15  -1.02049555e+14  -2.87229186e+15\n",
      "  -3.66202535e+14  -3.17099663e+15  -2.72068680e+14  -2.97483071e+15\n",
      "  -3.22942242e+15  -3.68291030e+14  -3.62111833e+15  -1.80321330e+15\n",
      "  -1.91320848e+15  -4.96091754e+15  -3.54825985e+15  -3.34271426e+15\n",
      "  -3.39788150e+15  -6.77584040e+14  -1.83193817e+15  -2.67934985e+15\n",
      "  -1.64431602e+15  -6.08304915e+15  -4.37017915e+15  -8.53147002e+14\n",
      "  -1.88136868e+15  -2.74427150e+15  -2.92151004e+15  -6.39911120e+13\n",
      "  -3.29178843e+14  -2.43221153e+15  -2.01740050e+15  -1.83193831e+15\n",
      "  -3.27736579e+15  -2.10568462e+15  -1.98902325e+15  -4.93759158e+15\n",
      "  -5.34534718e+15  -3.34271426e+15  -4.37484429e+15  -3.66644930e+15\n",
      "  -2.77554262e+15  -5.87823666e+15  -5.34534772e+15  -3.49765252e+15\n",
      "  -4.54819387e+14  -1.74090258e+15  -2.53902334e+15  -3.00125684e+15\n",
      "  -4.66944818e+15  -4.95944008e+15  -1.29089188e+15  -1.38062180e+15\n",
      "  -6.83200045e+14  -1.23019423e+14  -1.79409629e+15  -1.91693235e+15\n",
      "  -4.20531153e+14  -4.93759158e+15  -7.44418831e+14  -1.94969208e+15\n",
      "  -3.09471989e+15  -4.67196879e+15  -2.22915782e+15  -7.00297974e+14\n",
      "  -3.05972504e+15  -7.46493569e+14  -3.27736553e+15  -5.70487943e+15\n",
      "  -4.09184111e+15  -3.50942717e+15  -2.06267536e+15  -5.25268159e+14\n",
      "  -1.92831630e+15  -3.12868289e+15  -1.48367578e+15  -2.43221126e+15\n",
      "  -5.32357589e+13  -2.87800819e+15  -3.12293085e+15  -1.38361687e+15\n",
      "  -5.19886934e+14  -2.09478279e+15  -5.14150481e+15  -3.28031778e+15\n",
      "  -4.00153245e+15  -2.88564626e+14  -3.54825878e+15  -3.50942717e+15]\n"
     ]
    }
   ],
   "source": [
    "print ax, ay, az"
   ]
  },
  {
   "cell_type": "code",
   "execution_count": 69,
   "metadata": {},
   "outputs": [],
   "source": [
    "R = np.ndarray([N,6])\n",
    "R[:,0]=vx\n",
    "R[:,1]=vy\n",
    "R[:,2]=vz\n",
    "R[:,3]=ax\n",
    "R[:,4]=ay\n",
    "R[:,5]=az\n",
    "# print R"
   ]
  },
  {
   "cell_type": "code",
   "execution_count": 77,
   "metadata": {},
   "outputs": [],
   "source": [
    "h = 0.5\n",
    "for k in range(0,1000):\n",
    "    for i in range(0,N):\n",
    "        W[i,:] = W[i,:] + h * R[i,:]\n",
    "        R[:,0] = W[:,3]\n",
    "        R[:,1] = W[:,4]\n",
    "        R[:,2] = W[:,5]\n",
    "        \n",
    "        R[:,3], R[:,4], R[:,5] = aceleracion.a_str(m,W[:,0],W[:,1],W[:,2],N)"
   ]
  },
  {
   "cell_type": "code",
   "execution_count": 78,
   "metadata": {},
   "outputs": [
    {
     "name": "stdout",
     "output_type": "stream",
     "text": [
      "[[ -2.87689594e+17  -3.30230637e+18  -5.88382699e+18  -1.43881761e+14\n",
      "   -1.65179422e+15  -2.94280663e+15]\n",
      " [ -9.30121363e+18  -3.75933904e+18  -5.19064462e+18  -4.65240910e+15\n",
      "   -1.88022595e+15  -2.59639652e+15]\n",
      " [ -6.07116679e+18  -4.23504486e+18  -2.85001632e+18  -3.03648618e+15\n",
      "   -2.11819378e+15  -1.42536451e+15]\n",
      " [ -5.86143234e+18  -1.19133055e+18  -3.35586041e+18  -2.93165280e+15\n",
      "   -5.95814688e+14  -1.67835781e+15]\n",
      " [ -1.47783629e+18  -2.07533332e+18  -6.89996679e+18  -7.39107993e+14\n",
      "   -1.03794304e+15  -3.45117131e+15]\n",
      " [ -4.91390242e+18  -2.29052056e+18  -4.00674676e+18  -2.45761344e+15\n",
      "   -1.14572564e+15  -2.00408939e+15]\n",
      " [ -2.47658524e+18  -5.76021703e+17  -1.46684195e+17  -1.23860672e+15\n",
      "   -2.88142637e+14  -7.33605522e+13]\n",
      " [ -3.91377917e+18  -3.41271749e+18  -4.31957335e+18  -1.95767415e+15\n",
      "   -1.70698247e+15  -2.16032974e+15]\n",
      " [ -1.82413285e+17  -3.55499095e+18  -3.16637154e+18  -9.12308773e+13\n",
      "   -1.77794226e+15  -1.58378033e+15]\n",
      " [ -7.08845398e+18  -2.10226324e+18  -5.72972806e+18  -3.54533209e+15\n",
      "   -1.05143943e+15  -2.86572331e+15]\n",
      " [ -4.13246902e+18  -1.16493976e+18  -2.75311809e+18  -2.06683366e+15\n",
      "   -5.82615659e+14  -1.37715952e+15]\n",
      " [ -3.48845537e+18  -5.80701495e+18  -4.92057577e+18  -1.74466389e+15\n",
      "   -2.90450183e+15  -2.46111961e+15]\n",
      " [ -5.83979995e+18  -1.08491084e+19  -5.00365307e+18  -2.92098578e+15\n",
      "   -5.42655132e+15  -2.50245638e+15]\n",
      " [ -2.59668271e+18  -4.32468672e+18  -3.62835680e+18  -1.29881012e+15\n",
      "   -2.16303405e+15  -1.81485024e+15]\n",
      " [ -5.70938841e+18  -3.20274974e+18  -1.94079904e+18  -2.85540967e+15\n",
      "   -1.60177780e+15  -9.70859875e+14]\n",
      " [ -5.90943187e+17  -2.55415980e+18  -3.99072041e+18  -2.95550176e+14\n",
      "   -1.27757668e+15  -1.99614088e+15]\n",
      " [ -2.68440749e+18  -4.97704158e+18  -4.27619961e+17  -1.34254434e+15\n",
      "   -2.48956538e+15  -2.13871139e+14]\n",
      " [ -2.35219418e+18  -1.77975545e+18  -4.53243440e+18  -1.17639827e+15\n",
      "   -8.90106754e+14  -2.26696018e+15]\n",
      " [ -1.29068268e+18  -1.03225544e+18  -1.33280543e+17  -6.45525691e+14\n",
      "   -5.16368198e+14  -6.66569438e+13]\n",
      " [ -1.95746648e+17  -5.30275242e+18  -3.06293821e+18  -9.78988599e+13\n",
      "   -2.65203982e+15  -1.53186345e+15]\n",
      " [ -4.71898815e+18  -4.78276777e+18  -3.84271710e+18  -2.36010647e+15\n",
      "   -2.39214686e+15  -1.92209088e+15]\n",
      " [ -1.25395718e+17  -3.55436479e+18  -2.26081842e+18  -6.27139207e+13\n",
      "   -1.77784272e+15  -1.13093901e+15]\n",
      " [ -4.87682161e+18  -5.93355039e+18  -1.88975674e+18  -2.43903254e+15\n",
      "   -2.96813557e+15  -9.45116598e+14]\n",
      " [ -1.71418060e+17  -3.40711321e+18  -3.47644152e+18  -8.57308329e+13\n",
      "   -1.70398884e+15  -1.73887301e+15]\n",
      " [ -3.32361095e+18  -4.73506514e+18  -1.91249505e+18  -1.66223957e+15\n",
      "   -2.36812502e+15  -9.56486653e+14]\n",
      " [ -2.03563389e+18  -2.24508081e+16  -5.20722817e+18  -1.01807487e+15\n",
      "   -1.12282873e+13  -2.60429723e+15]\n",
      " [ -2.34266104e+18  -1.46777239e+18  -3.20337338e+18  -1.17188160e+15\n",
      "   -7.34070370e+14  -1.60208724e+15]\n",
      " [ -4.75255006e+18  -3.12513865e+18  -2.83782463e+18  -2.37719078e+15\n",
      "   -1.56296680e+15  -1.41932887e+15]\n",
      " [ -2.78567614e+18  -9.14140000e+17  -5.75191712e+18  -1.39327880e+15\n",
      "   -4.57198547e+14  -2.87697096e+15]\n",
      " [ -4.47545128e+18  -3.23935378e+18  -3.32345273e+16  -2.23851239e+15\n",
      "   -1.62008352e+15  -1.66234764e+13]\n",
      " [ -5.03463434e+18  -7.84324524e+18  -1.85440142e+18  -2.51825207e+15\n",
      "   -3.92283549e+15  -9.27441745e+14]\n",
      " [ -5.32055614e+18  -3.85884118e+17  -2.80301616e+18  -2.66121985e+15\n",
      "   -1.92991422e+14  -1.40205214e+15]\n",
      " [ -2.28422863e+18  -2.98358248e+17  -1.81914164e+18  -1.14257331e+15\n",
      "   -1.49240035e+14  -9.09879963e+14]\n",
      " [ -7.98086511e+17  -1.93470123e+18  -5.50308022e+18  -3.99144412e+14\n",
      "   -9.67608484e+14  -2.75237013e+15]\n",
      " [ -2.70343878e+18  -4.40173588e+18  -4.42300932e+18  -1.35205744e+15\n",
      "   -2.20143332e+15  -2.21220324e+15]\n",
      " [ -3.56197318e+18  -4.00861309e+17  -9.09415771e+17  -1.78178268e+15\n",
      "   -2.00480971e+14  -4.54829386e+14]\n",
      " [ -3.61238949e+18  -1.14065787e+18  -2.35302955e+18  -1.80665020e+15\n",
      "   -5.70471722e+14  -1.17686875e+15]\n",
      " [ -1.63169641e+18  -1.51379801e+18  -1.02812361e+18  -8.16057955e+14\n",
      "   -7.57088276e+14  -5.14190983e+14]\n",
      " [ -3.58953386e+18  -1.59350849e+18  -2.96158335e+18  -1.79523567e+15\n",
      "   -7.96955663e+14  -1.48116746e+15]\n",
      " [ -2.98740070e+17  -1.54534768e+18  -6.31650831e+16  -1.49434986e+14\n",
      "   -7.72867119e+14  -3.15906474e+13]\n",
      " [ -1.23351339e+18  -1.66151734e+18  -1.83157676e+17  -6.16911221e+14\n",
      "   -8.30993317e+14  -9.16162200e+13]\n",
      " [ -1.81525323e+18  -4.99219293e+18  -2.49187848e+18  -9.07857291e+14\n",
      "   -2.49712405e+15  -1.24626431e+15]\n",
      " [ -1.08532381e+18  -1.93401807e+18  -1.96339135e+18  -5.42820977e+14\n",
      "   -9.67448950e+14  -9.81944022e+14]\n",
      " [ -1.59044464e+18  -1.73138439e+18  -5.63013546e+16  -7.95423906e+14\n",
      "   -8.65909460e+14  -2.81580373e+13]\n",
      " [ -5.39473771e+17  -2.43413381e+18  -3.17085054e+18  -2.69847435e+14\n",
      "   -1.21737283e+15  -1.58582255e+15]\n",
      " [ -4.41032287e+18  -9.02624198e+16  -2.06081093e+18  -2.20601888e+15\n",
      "   -4.51425263e+13  -1.03066337e+15]\n",
      " [ -2.97349527e+18  -2.91162068e+17  -1.71632081e+18  -1.48720111e+15\n",
      "   -1.45635303e+14  -8.58375407e+14]\n",
      " [ -1.56368817e+18  -3.50609461e+18  -3.67409068e+18  -7.82043621e+14\n",
      "   -1.75348579e+15  -1.83772383e+15]\n",
      " [ -3.61862311e+18  -6.53679664e+17  -2.00165644e+18  -1.80977579e+15\n",
      "   -3.26921811e+14  -1.00107855e+15]\n",
      " [ -2.45863717e+18  -2.57293561e+18  -3.03520296e+18  -1.22982104e+15\n",
      "   -1.28702735e+15  -1.51830570e+15]\n",
      " [ -1.81435561e+18  -1.78610860e+16  -3.31261798e+18  -9.07613814e+14\n",
      "   -8.93335739e+12  -1.65673691e+15]\n",
      " [ -2.03823607e+18  -2.53458204e+18  -1.95600962e+18  -1.01940533e+15\n",
      "   -1.26766111e+15  -9.78249469e+14]\n",
      " [ -4.12105271e+17  -1.15448433e+17  -1.99781885e+18  -2.06154576e+14\n",
      "   -5.77389946e+13  -9.99159690e+14]\n",
      " [ -7.38388500e+17  -1.96399529e+18  -3.07438122e+18  -3.69291321e+14\n",
      "   -9.82243810e+14  -1.53778915e+15]\n",
      " [ -5.20804230e+18  -1.03163486e+17  -2.91762674e+17  -2.60490927e+15\n",
      "   -5.15948735e+13  -1.45919036e+14]\n",
      " [ -3.38224426e+18  -5.20346208e+18  -6.39356441e+16  -1.69154588e+15\n",
      "   -2.60279313e+15  -3.19761193e+13]\n",
      " [ -1.81566381e+18  -1.88387785e+18  -3.39598974e+17  -9.08060227e+14\n",
      "   -9.42209893e+14  -1.69852447e+14]\n",
      " [ -1.40369358e+18  -9.68973142e+17  -1.84817251e+18  -7.02025605e+14\n",
      "   -4.84613667e+14  -9.24392289e+14]\n",
      " [ -3.35683719e+16  -2.02612595e+18  -1.67189402e+18  -1.67892198e+13\n",
      "   -1.01331698e+15  -8.36158606e+14]\n",
      " [ -1.10356578e+17  -1.52219597e+18  -1.53759362e+18  -5.52054960e+13\n",
      "   -7.61290582e+14  -7.68989122e+14]\n",
      " [ -8.06601443e+17  -2.16348840e+18  -3.09861844e+18  -4.03401580e+14\n",
      "   -1.08221056e+15  -1.54969666e+15]\n",
      " [ -1.42324285e+18  -4.53438134e+17  -1.74913644e+18  -7.11801364e+14\n",
      "   -2.26782066e+14  -8.74810054e+14]\n",
      " [ -4.43036778e+16  -4.29918641e+16  -1.45131579e+18  -2.21578902e+13\n",
      "   -2.15027449e+13  -7.26011591e+14]\n",
      " [ -2.97884378e+18  -1.44428336e+17  -5.53647213e+18  -1.49003948e+15\n",
      "   -7.22495624e+13  -2.76923305e+15]\n",
      " [ -7.59899238e+15  -1.95128460e+17  -4.79720595e+17  -3.80063718e+12\n",
      "   -9.76123013e+13  -2.39968337e+14]\n",
      " [ -2.88002418e+15  -1.89942762e+18  -6.05963352e+16  -1.44040484e+12\n",
      "   -9.49951299e+14  -3.03098621e+13]\n",
      " [ -1.51429373e+17  -1.74902568e+18  -7.51203388e+15  -7.57337859e+13\n",
      "   -8.74731521e+14  -3.75714834e+12]\n",
      " [ -2.35274269e+18  -1.55230276e+17  -1.74488576e+18  -1.17687392e+15\n",
      "   -7.76360040e+13  -8.72877161e+14]\n",
      " [ -6.47946759e+16  -6.43776566e+15  -1.86727084e+18  -3.24117966e+13\n",
      "   -3.22048822e+12  -9.34077171e+14]\n",
      " [ -5.09325256e+17  -5.93757870e+18  -3.61330315e+17  -2.54726311e+14\n",
      "   -2.96953182e+15  -1.80753345e+14]\n",
      " [ -6.15749973e+15  -3.09664995e+18  -8.32849392e+17  -3.08006506e+12\n",
      "   -1.54892707e+15  -4.16573324e+14]\n",
      " [ -2.36563285e+18  -9.73332062e+17  -1.92420202e+17  -1.18311221e+15\n",
      "   -4.86787872e+14  -9.62345220e+13]\n",
      " [ -1.37838281e+18  -2.50616548e+18  -2.78220515e+16  -6.89364055e+14\n",
      "   -1.25339610e+15  -1.39145282e+13]\n",
      " [ -1.60802638e+18  -3.27143427e+18  -5.36349935e+15  -8.04273865e+14\n",
      "   -1.63612643e+15  -2.68242865e+12]\n",
      " [ -2.54757988e+17  -1.40398717e+18  -2.63506929e+17  -1.27411558e+14\n",
      "   -7.02341134e+14  -1.31789719e+14]\n",
      " [ -2.11497644e+17  -1.78244198e+18  -4.56068093e+16  -1.05798399e+14\n",
      "   -8.91443972e+14  -2.28119890e+13]\n",
      " [ -1.13690204e+18  -1.64964128e+18  -1.38658158e+18  -5.68679222e+14\n",
      "   -8.25026957e+14  -6.93465523e+14]\n",
      " [ -9.47546824e+17  -2.17296974e+17  -2.37805177e+16  -4.73891885e+14\n",
      "   -1.08677026e+14  -1.18932322e+13]\n",
      " [ -3.78532789e+16  -3.17127086e+18  -1.82310075e+15  -1.89314806e+13\n",
      "   -1.58603194e+15  -9.11971664e+11]\n",
      " [ -5.51837121e+15  -3.43478603e+15  -1.73167504e+18  -2.75993222e+12\n",
      "   -1.71803286e+12  -8.66056953e+14]\n",
      " [ -9.49592933e+15  -8.79350737e+17  -1.16361931e+18  -4.74946155e+12\n",
      "   -4.39894993e+14  -5.82096760e+14]\n",
      " [ -1.41029125e+18  -1.13293425e+18  -1.76967731e+18  -7.05354929e+14\n",
      "   -5.66608828e+14  -8.85066174e+14]\n",
      " [ -1.55962105e+18  -3.49083300e+15  -2.84781496e+16  -7.80005532e+14\n",
      "   -1.74585468e+12  -1.42461351e+13]\n",
      " [ -1.14173891e+15  -2.06124720e+17  -3.52122467e+15  -5.71144040e+11\n",
      "   -1.03088135e+14  -1.76107698e+12]\n",
      " [ -1.06144229e+17  -1.74666837e+18  -1.80135362e+15  -5.30853871e+13\n",
      "   -8.73771024e+14  -9.00902110e+11]\n",
      " [ -3.71850846e+17  -3.85289689e+16  -1.91915049e+17  -1.86014923e+14\n",
      "   -1.92704749e+13  -9.59816118e+13]\n",
      " [ -3.24398489e+15  -3.52918334e+15  -7.01696562e+17  -1.62276355e+12\n",
      "   -1.76503314e+12  -3.50936016e+14]\n",
      " [ -1.72654177e+18  -8.45996194e+16  -1.10772826e+16  -8.63486761e+14\n",
      "   -4.23103917e+13  -5.54002670e+12]\n",
      " [ -1.89890409e+17  -6.22622502e+16  -5.43946702e+16  -9.49862992e+13\n",
      "   -3.11389106e+13  -2.72041419e+13]\n",
      " [ -1.69455202e+18  -2.79515014e+18  -2.84637900e+16  -8.47487885e+14\n",
      "   -1.39813963e+15  -1.42389938e+13]\n",
      " [ -2.86926947e+17  -1.33198637e+14  -3.83816652e+17  -1.43516659e+14\n",
      "   -6.66253637e+10  -1.91959045e+14]\n",
      " [ -1.33418531e+16  -9.26663749e+13  -2.51695763e+18  -6.67261592e+12\n",
      "   -4.63447875e+10  -1.25879383e+15]\n",
      " [ -5.60482518e+14  -1.87106241e+18  -2.13846000e+15  -2.80311487e+11\n",
      "   -9.35775315e+14  -1.06950380e+12]\n",
      " [ -1.96522860e+15  -8.81358800e+17  -4.09962318e+15  -9.82871408e+11\n",
      "   -4.40789696e+14  -2.05032449e+12]\n",
      " [ -2.99847056e+13  -1.40012214e+18  -5.41899693e+13  -1.49961053e+10\n",
      "   -7.00238403e+14  -2.71022300e+10]\n",
      " [ -2.25563491e+18  -1.38609771e+17  -3.57638383e+14  -1.12809948e+15\n",
      "   -6.93222166e+13  -1.78908259e+11]\n",
      " [ -1.73428104e+13  -8.16548201e+14  -2.96954314e+12  -8.67361775e+09\n",
      "   -4.08377014e+11  -1.48514442e+09]\n",
      " [ -5.74030863e+12  -5.75879156e+14  -5.85468714e+16  -2.87087424e+09\n",
      "   -2.88011589e+11  -2.92819257e+13]\n",
      " [ -8.11447026e+15  -1.39235404e+17  -3.18474730e+15  -4.05824969e+12\n",
      "   -6.96351107e+13  -1.59277184e+12]\n",
      " [ -2.38471764e+13  -8.76910550e+11  -1.48991272e+12  -1.19265698e+10\n",
      "   -4.38564916e+08  -7.45142645e+08]]\n"
     ]
    }
   ],
   "source": [
    "print W"
   ]
  },
  {
   "cell_type": "code",
   "execution_count": 76,
   "metadata": {},
   "outputs": [
    {
     "data": {
      "text/plain": [
       "[<matplotlib.lines.Line2D at 0x7f5c12ee4490>]"
      ]
     },
     "execution_count": 76,
     "metadata": {},
     "output_type": "execute_result"
    },
    {
     "data": {
      "image/png": "[encoded data removed]",
      "text/plain": [
       "<matplotlib.figure.Figure at 0x7f5c1328f910>"
      ]
     },
     "metadata": {},
     "output_type": "display_data"
    }
   ],
   "source": [
    "plt.plot(W[:,0],W[:,1],'o')"
   ]
  },
  {
   "cell_type": "code",
   "execution_count": null,
   "metadata": {},
   "outputs": [],
   "source": []
  }
 ],
 "metadata": {
  "kernelspec": {
   "display_name": "Python 2",
   "language": "python",
   "name": "python2"
  },
  "language_info": {
   "codemirror_mode": {
    "name": "ipython",
    "version": 2
   },
   "file_extension": ".py",
   "mimetype": "text/x-python",
   "name": "python",
   "nbconvert_exporter": "python",
   "pygments_lexer": "ipython2",
   "version": "2.7.13"
  }
 },
 "nbformat": 4,
 "nbformat_minor": 2
}
