{
 "cells": [
  {
   "cell_type": "code",
   "execution_count": 1,
   "metadata": {},
   "outputs": [
    {
     "name": "stdout",
     "output_type": "stream",
     "text": [
      "Populating the interactive namespace from numpy and matplotlib\n"
     ]
    }
   ],
   "source": [
    "%pylab inline"
   ]
  },
  {
   "cell_type": "code",
   "execution_count": 2,
   "metadata": {},
   "outputs": [],
   "source": [
    "import random\n",
    "\n",
    "N   = 100\n",
    "aux = frange(-1,1,0.001)\n",
    "x   = np.random.choice(aux, N, replace = True)\n",
    "y   = np.random.choice(aux, N, replace = True)\n",
    "z   = np.random.choice(aux, N, replace = True)\n",
    "\n",
    "# vx  = np.random.choice(aux, N, replace = True)\n",
    "# vy  = np.random.choice(aux, N, replace = True)\n",
    "# vz  = np.random.choice(aux, N, replace = True)\n",
    "\n",
    "x = x*100\n",
    "y = y*100\n",
    "z = z*100\n",
    "\n",
    "r = np.sqrt(x**2 + y**2 + z**2)\n",
    "\n",
    "mask, = np.where(r<100)\n",
    "\n",
    "x = x[mask]\n",
    "y = y[mask]\n",
    "z = z[mask]\n",
    "\n",
    "# vx = vx*400 + 100\n",
    "# vy = vy*400 + 100\n",
    "# vz = vz*400 + 100\n",
    "\n",
    "vx = np.zeros(N)\n",
    "vy = np.zeros(N)\n",
    "vz = np.zeros(N)\n",
    "\n",
    "vx = vx[mask]\n",
    "vy = vy[mask]\n",
    "vz = vz[mask]"
   ]
  },
  {
   "cell_type": "code",
   "execution_count": 3,
   "metadata": {},
   "outputs": [],
   "source": [
    "#W = np.ndarray([len(x),6])\n",
    "#W[:,0]=x\n",
    "#W[:,1]=y\n",
    "#W[:,2]=z\n",
    "#W[:,3]=vx\n",
    "#W[:,4]=vy\n",
    "#W[:,5]=vz\n",
    "# print W"
   ]
  },
  {
   "cell_type": "code",
   "execution_count": 4,
   "metadata": {},
   "outputs": [
    {
     "data": {
      "text/plain": [
       "(-150, 150)"
      ]
     },
     "execution_count": 4,
     "metadata": {},
     "output_type": "execute_result"
    },
    {
     "data": {
      "image/png": "[encoded data removed]",
      "text/plain": [
       "<matplotlib.figure.Figure at 0x7f59e0d2da90>"
      ]
     },
     "metadata": {},
     "output_type": "display_data"
    }
   ],
   "source": [
    "plt.plot(x,y,'o')\n",
    "plt.xlim(-150,150)\n",
    "plt.ylim(-150,150)"
   ]
  },
  {
   "cell_type": "code",
   "execution_count": 5,
   "metadata": {},
   "outputs": [
    {
     "name": "stdout",
     "output_type": "stream",
     "text": [
      "53\n"
     ]
    }
   ],
   "source": [
    "m = np.ones(len(x))*5e11\n",
    "m = m/len(m)\n",
    "print len(m)\n",
    "# m[0] = 1e20"
   ]
  },
  {
   "cell_type": "code",
   "execution_count": 6,
   "metadata": {},
   "outputs": [],
   "source": [
    "#calculamos la aceleracion\n",
    "\n",
    "from aceleracion import *\n",
    "\n",
    "ax, ay, az = aceleracion.a_str(m,x,y,z,len(m))\n",
    "\n",
    "# d = np.ndarray([np.size(a),3])\n",
    "# d[:,0] = u_str\n",
    "# d[:,1] = u_gas\n",
    "# d[:,2] = u_drk\n",
    "# np.savetxt('energia_potencial0.dat', d, '%12.6f', '\\t')"
   ]
  },
  {
   "cell_type": "code",
   "execution_count": 7,
   "metadata": {},
   "outputs": [
    {
     "name": "stdout",
     "output_type": "stream",
     "text": [
      "[ -34.34576797  237.095047    141.01522827  258.66235352  -22.04409599\n",
      "  -83.70331573  133.93418884   74.7447052    35.67286301  -33.84197617\n",
      "  137.12205505 -165.05685425 -178.99911499  119.76512146  -61.78480148\n",
      "   26.60515022  -41.1323967   122.83590698  -54.31345367   90.00025177\n",
      "  -47.59265518   44.19372177  102.94678497   71.66241455  253.9336853\n",
      "   18.85421753  -63.01724243 -201.36593628 -141.45846558   84.27967834\n",
      "  -75.0220108  -256.32388306   44.29599762  -28.96872902  -30.83482742\n",
      "  128.44863892 -152.33323669 -119.95442963 -101.90435028  418.89920044\n",
      "  117.0446167  -195.62330627 -180.78588867   66.74571991  148.38635254\n",
      " -147.36468506   39.27372742 -184.16539001   81.80653381  -19.91913223\n",
      "   68.21164703 -562.39831543  117.81855011] [ -34.5681076   333.09317017   52.09818268  143.4540863   -60.13884354\n",
      "  155.02156067  -88.06771088   35.36284637  -48.64612961  -44.73830795\n",
      "   79.53305817  -10.93507481  -39.07141876    4.72861576 -146.37390137\n",
      " -128.81730652  -52.44295883  -33.49229813 -149.77001953  190.93547058\n",
      "   39.67004776 -100.36460876  183.30236816 -137.34088135 -235.90910339\n",
      "   58.26438141   -1.14440119   69.78707886 -171.58477783 -163.68829346\n",
      "  -99.45631409  134.34541321  181.13937378 -134.64840698   19.87404633\n",
      "  -33.7791214  -116.89241028 -130.74995422  -62.40887451  133.28962708\n",
      "   58.26285934  124.74115753  255.04463196 -112.21982574  -21.54630661\n",
      "  -75.77799225  121.1285553   -18.51387596    2.69578576  -21.48383904\n",
      "  -29.63737488   62.54036713   65.89557648] [-270.15939331  319.26879883  -25.04968643 -114.39066315  -95.47514343\n",
      "  -41.05039978  184.33692932  139.99795532   77.42479706  -38.79520035\n",
      " -111.52322388  -55.30885696    2.99809313   60.46764374  -15.14267635\n",
      " -132.13993835  112.05554199    5.66870117  -50.41519928   53.18635941\n",
      " -104.51696777  420.04147339   49.39614868   62.58721924   28.76785469\n",
      "  -64.63335419 -148.57907104 -171.25921631    9.82622051   14.68280125\n",
      "  -59.87002563 -167.92785645  -33.36927795  152.2447052    11.95331383\n",
      "  -33.1752739    58.07804489    4.54130983  -99.13021851  153.86946106\n",
      "  -73.9729538   -82.88303375  -28.53318787 -205.89328003   52.62278366\n",
      "  131.01972961 -192.18563843   58.40991974   70.42215729  -89.01506042\n",
      "  -57.35384369  271.32595825   56.55486679]\n"
     ]
    }
   ],
   "source": [
    "print ax, ay, az"
   ]
  },
  {
   "cell_type": "code",
   "execution_count": 8,
   "metadata": {},
   "outputs": [],
   "source": [
    "#R = np.ndarray([len(m),6])\n",
    "#R[:,0]=vx\n",
    "#R[:,1]=vy\n",
    "#R[:,2]=vz\n",
    "#R[:,3]=ax\n",
    "#R[:,4]=ay\n",
    "#R[:,5]=az\n",
    "# print R"
   ]
  },
  {
   "cell_type": "code",
   "execution_count": 9,
   "metadata": {},
   "outputs": [],
   "source": [
    "#h = 0.1\n",
    "\n",
    "#for k in range(0,10):\n",
    "#    for i in range(0,len(m)):\n",
    "#        W[i,:] = W[i,:] + h * R[i,:]\n",
    "#        R[:,0] = W[:,3]\n",
    "#        R[:,1] = W[:,4]\n",
    "#        R[:,2] = W[:,5]\n",
    "        \n",
    "#        R[:,3], R[:,4], R[:,5] = aceleracion.a_str(m,W[:,0],W[:,1],W[:,2],len(m))\n",
    "        \n",
    "        #print W[i,:]\n",
    "        "
   ]
  },
  {
   "cell_type": "code",
   "execution_count": 10,
   "metadata": {},
   "outputs": [],
   "source": [
    "h = 0.001\n",
    "\n",
    "xx=x\n",
    "yy=y\n",
    "zz=z\n",
    "\n",
    "vxx=vx\n",
    "vyy=vy\n",
    "vzz=vz\n",
    "\n",
    "axx=ax\n",
    "ayy=ay\n",
    "azz=az\n",
    "\n",
    "nit=100\n",
    "for k in range(0,nit):\n",
    "    xx = xx + h * vxx\n",
    "    yy = yy + h * vyy\n",
    "    zz = zz + h * vzz\n",
    "\n",
    "    vxx = vxx + h * axx\n",
    "    vyy = vyy + h * ayy\n",
    "    vzz = vzz + h * azz\n",
    "    \n",
    "    axx,ayy,azz = aceleracion.a_str(m,xx,yy,zz,len(m))\n",
    "        \n",
    "        #print W[i,:]"
   ]
  },
  {
   "cell_type": "markdown",
   "metadata": {},
   "source": [
    "### print W"
   ]
  },
  {
   "cell_type": "code",
   "execution_count": 11,
   "metadata": {},
   "outputs": [
    {
     "data": {
      "text/plain": [
       "[<matplotlib.lines.Line2D at 0x7f59de91f890>]"
      ]
     },
     "execution_count": 11,
     "metadata": {},
     "output_type": "execute_result"
    },
    {
     "data": {
      "image/png": "[encoded data removed]",
      "text/plain": [
       "<matplotlib.figure.Figure at 0x7f59de91fed0>"
      ]
     },
     "metadata": {},
     "output_type": "display_data"
    }
   ],
   "source": [
    "plt.plot(x,y,'o', color='b')\n",
    "plt.plot(xx,yy,'o', color='r')"
   ]
  },
  {
   "cell_type": "code",
   "execution_count": 12,
   "metadata": {},
   "outputs": [],
   "source": [
    "from integradores import *\n",
    "ax,ay,az=integradores.a_str(0.5,m,x,y,z,len(m))"
   ]
  },
  {
   "cell_type": "code",
   "execution_count": 13,
   "metadata": {},
   "outputs": [],
   "source": [
    "from integradores import *\n",
    "eps=0.5\n",
    "#h = 0.0001\n",
    "#nit = 100000\n",
    "x0,y0,z0,vx0,vy0,vz0,ax0,ay0,az0 =integradores.euler(eps,h,nit,m,x,y,z,vx,vy,vz,ax,ay,az,len(m))"
   ]
  },
  {
   "cell_type": "code",
   "execution_count": 14,
   "metadata": {},
   "outputs": [
    {
     "data": {
      "text/plain": [
       "[<matplotlib.lines.Line2D at 0x7f59de5c0910>]"
      ]
     },
     "execution_count": 14,
     "metadata": {},
     "output_type": "execute_result"
    },
    {
     "data": {
      "image/png": "[encoded data removed]",
      "text/plain": [
       "<matplotlib.figure.Figure at 0x7f59de5c0dd0>"
      ]
     },
     "metadata": {},
     "output_type": "display_data"
    }
   ],
   "source": [
    "plot(x,y,'o', color='b')\n",
    "plot(x0,y0,'o', color='r')"
   ]
  },
  {
   "cell_type": "code",
   "execution_count": null,
   "metadata": {},
   "outputs": [],
   "source": []
  },
  {
   "cell_type": "code",
   "execution_count": 15,
   "metadata": {},
   "outputs": [
    {
     "name": "stdout",
     "output_type": "stream",
     "text": [
      "ax,ay,az = a_str(eps,m,x,y,z,[n])\n",
      "\n",
      "Wrapper for ``a_str``.\n",
      "\n",
      "Parameters\n",
      "----------\n",
      "eps : input float\n",
      "m : input rank-1 array('f') with bounds (n)\n",
      "x : input rank-1 array('f') with bounds (n)\n",
      "y : input rank-1 array('f') with bounds (n)\n",
      "z : input rank-1 array('f') with bounds (n)\n",
      "\n",
      "Other Parameters\n",
      "----------------\n",
      "n : input int, optional\n",
      "    Default: len(m)\n",
      "\n",
      "Returns\n",
      "-------\n",
      "ax : rank-1 array('f') with bounds (n)\n",
      "ay : rank-1 array('f') with bounds (n)\n",
      "az : rank-1 array('f') with bounds (n)\n",
      "x,y,z,vx,vy,vz,ax,ay,az = euler(eps,dt,nit,m,x,y,z,vx,vy,vz,ax,ay,az,[n])\n",
      "\n",
      "Wrapper for ``euler``.\n",
      "\n",
      "Parameters\n",
      "----------\n",
      "eps : input float\n",
      "dt : input float\n",
      "nit : input int\n",
      "m : input rank-1 array('f') with bounds (n)\n",
      "x : input rank-1 array('f') with bounds (n)\n",
      "y : input rank-1 array('f') with bounds (n)\n",
      "z : input rank-1 array('f') with bounds (n)\n",
      "vx : input rank-1 array('f') with bounds (n)\n",
      "vy : input rank-1 array('f') with bounds (n)\n",
      "vz : input rank-1 array('f') with bounds (n)\n",
      "ax : input rank-1 array('f') with bounds (n)\n",
      "ay : input rank-1 array('f') with bounds (n)\n",
      "az : input rank-1 array('f') with bounds (n)\n",
      "\n",
      "Other Parameters\n",
      "----------------\n",
      "n : input int, optional\n",
      "    Default: len(m)\n",
      "\n",
      "Returns\n",
      "-------\n",
      "x : rank-1 array('f') with bounds (n)\n",
      "y : rank-1 array('f') with bounds (n)\n",
      "z : rank-1 array('f') with bounds (n)\n",
      "vx : rank-1 array('f') with bounds (n)\n",
      "vy : rank-1 array('f') with bounds (n)\n",
      "vz : rank-1 array('f') with bounds (n)\n",
      "ax : rank-1 array('f') with bounds (n)\n",
      "ay : rank-1 array('f') with bounds (n)\n",
      "az : rank-1 array('f') with bounds (n)\n",
      "\n"
     ]
    }
   ],
   "source": [
    "print integradores.__doc__"
   ]
  }
 ],
 "metadata": {
  "kernelspec": {
   "display_name": "Python 2",
   "language": "python",
   "name": "python2"
  },
  "language_info": {
   "codemirror_mode": {
    "name": "ipython",
    "version": 2
   },
   "file_extension": ".py",
   "mimetype": "text/x-python",
   "name": "python",
   "nbconvert_exporter": "python",
   "pygments_lexer": "ipython2",
   "version": "2.7.13"
  }
 },
 "nbformat": 4,
 "nbformat_minor": 2
}
