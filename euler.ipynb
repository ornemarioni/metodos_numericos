{
 "cells": [
  {
   "cell_type": "code",
   "execution_count": 1,
   "metadata": {},
   "outputs": [
    {
     "name": "stdout",
     "output_type": "stream",
     "text": [
      "Populating the interactive namespace from numpy and matplotlib\n"
     ]
    }
   ],
   "source": [
    "%pylab inline"
   ]
  },
  {
   "cell_type": "code",
   "execution_count": 2,
   "metadata": {},
   "outputs": [],
   "source": [
    "import random\n",
    "\n",
    "N   = 100\n",
    "aux = frange(-1,1,0.001)\n",
    "x   = np.random.choice(aux, N, replace = True)\n",
    "y   = np.random.choice(aux, N, replace = True)\n",
    "z   = np.random.choice(aux, N, replace = True)\n",
    "\n",
    "# vx  = np.random.choice(aux, N, replace = True)\n",
    "# vy  = np.random.choice(aux, N, replace = True)\n",
    "# vz  = np.random.choice(aux, N, replace = True)\n",
    "\n",
    "x = x*100\n",
    "y = y*100\n",
    "z = z*100\n",
    "\n",
    "r = np.sqrt(x**2 + y**2 + z**2)\n",
    "\n",
    "mask, = np.where(r<100)\n",
    "\n",
    "x = x[mask]\n",
    "y = y[mask]\n",
    "z = z[mask]\n",
    "\n",
    "# vx = vx*400 + 100\n",
    "# vy = vy*400 + 100\n",
    "# vz = vz*400 + 100\n",
    "\n",
    "vx = np.zeros(N)\n",
    "vy = np.zeros(N)\n",
    "vz = np.zeros(N)\n",
    "\n",
    "vx = vx[mask]\n",
    "vy = vy[mask]\n",
    "vz = vz[mask]"
   ]
  },
  {
   "cell_type": "code",
   "execution_count": 3,
   "metadata": {},
   "outputs": [],
   "source": [
    "#W = np.ndarray([len(x),6])\n",
    "#W[:,0]=x\n",
    "#W[:,1]=y\n",
    "#W[:,2]=z\n",
    "#W[:,3]=vx\n",
    "#W[:,4]=vy\n",
    "#W[:,5]=vz\n",
    "# print W"
   ]
  },
  {
   "cell_type": "code",
   "execution_count": 4,
   "metadata": {},
   "outputs": [
    {
     "data": {
      "text/plain": [
       "(-150, 150)"
      ]
     },
     "execution_count": 4,
     "metadata": {},
     "output_type": "execute_result"
    },
    {
     "data": {
      "image/png": "[encoded data removed]",
      "text/plain": [
       "<matplotlib.figure.Figure at 0x7f02fe9dfc90>"
      ]
     },
     "metadata": {},
     "output_type": "display_data"
    }
   ],
   "source": [
    "plt.plot(x,y,'o')\n",
    "plt.xlim(-150,150)\n",
    "plt.ylim(-150,150)"
   ]
  },
  {
   "cell_type": "code",
   "execution_count": 5,
   "metadata": {},
   "outputs": [
    {
     "name": "stdout",
     "output_type": "stream",
     "text": [
      "53\n"
     ]
    }
   ],
   "source": [
    "m = np.ones(len(x))*5e11\n",
    "m = m/len(m)\n",
    "print len(m)\n",
    "# m[0] = 1e20"
   ]
  },
  {
   "cell_type": "code",
   "execution_count": 6,
   "metadata": {},
   "outputs": [],
   "source": [
    "#calculamos la aceleracion\n",
    "\n",
    "from aceleracion import *\n",
    "\n",
    "ax, ay, az = aceleracion.a_str(m,x,y,z,len(m))\n",
    "\n",
    "# d = np.ndarray([np.size(a),3])\n",
    "# d[:,0] = u_str\n",
    "# d[:,1] = u_gas\n",
    "# d[:,2] = u_drk\n",
    "# np.savetxt('energia_potencial0.dat', d, '%12.6f', '\\t')"
   ]
  },
  {
   "cell_type": "code",
   "execution_count": 7,
   "metadata": {},
   "outputs": [
    {
     "name": "stdout",
     "output_type": "stream",
     "text": [
      "[-8.53773804e+01  3.13874664e+02 -3.83723907e+01 -1.32889954e+02\n",
      " -4.02422676e+01  1.03320396e+02 -1.36714279e+02  1.73853180e+02\n",
      "  6.65886002e+01  7.58529236e+02 -9.58824768e+01  2.94991211e+02\n",
      "  7.60054779e+01 -1.53622177e+02  1.69270187e+02 -2.23821869e+01\n",
      "  2.45363480e+02 -1.82731506e+02  1.69616013e+01  1.47328781e+02\n",
      " -2.00245956e+02  1.80375595e+02  8.63132248e+01  1.37879242e+02\n",
      " -1.12724785e+02  1.80972794e+02 -1.22950333e+02 -2.08965744e+02\n",
      "  6.43425293e+01 -5.17244492e+01 -4.93443176e+02  2.59250854e+02\n",
      "  4.96446877e+01 -1.53282089e+02 -1.71718063e+02 -4.12559242e+01\n",
      "  4.62238953e+02 -1.60563568e+02 -4.37630493e+02  6.15049400e+01\n",
      " -1.65262711e+02  1.46080704e+02  1.19236115e+02 -8.37119293e+01\n",
      " -1.03004742e+01 -2.87334681e-01 -2.51830231e+02 -7.64710541e+01\n",
      " -8.24134674e+01  1.42268234e+02 -2.62847260e+02 -2.41088974e+02\n",
      " -3.92619438e+01] [ -81.82551    149.9547     144.6815      11.326078  -174.86731\n",
      " -222.92369   -115.15268     35.868263    20.371891   426.1835\n",
      "  -48.968723    23.226463    70.96681     64.03826    -75.24081\n",
      "  -70.48954   -152.49193    -40.664482   212.12515   -122.80334\n",
      "  102.86063     -2.1525364  130.29492     54.834255   143.51987\n",
      "   -9.0552     171.31001     39.653683  -149.75699   -199.5841\n",
      " -230.97153   -107.48954   -108.35287   -101.38611    -55.47293\n",
      "    5.5047913 -693.38135    -72.56877    693.85803    158.0562\n",
      " -122.464485   -54.193573    21.56824   -105.966255  -271.89966\n",
      "  200.20305    119.87247    176.67355   -225.73831    126.80448\n",
      "   18.812254   138.07568    155.21779  ] [-137.34465    165.52605   -126.92703   -229.71043    382.52997\n",
      "  104.27316    -17.672453    61.716152  -237.90088   -273.59012\n",
      "  -18.357841    -2.7349844 -134.25745    136.90477    -19.275612\n",
      " -256.80414   -305.32095    -45.80359    -32.24529    120.96002\n",
      "  -93.66457     99.97671     84.566154   -75.885994     2.725844\n",
      "   -7.838575    -2.4188638   54.03181    102.49567      7.6203136\n",
      "  255.20514    -50.49763    200.80367    -26.778328    30.80102\n",
      "  143.75352   -497.85342    139.03172    224.98213     88.36944\n",
      "  200.85289    -76.81945   -184.76266    -89.21127     49.666542\n",
      "  -33.733776    74.22719     87.02246    -80.2092       9.056291\n",
      " -177.70444    353.92926     54.29558  ]\n"
     ]
    }
   ],
   "source": [
    "print ax, ay, az"
   ]
  },
  {
   "cell_type": "code",
   "execution_count": 8,
   "metadata": {},
   "outputs": [],
   "source": [
    "#R = np.ndarray([len(m),6])\n",
    "#R[:,0]=vx\n",
    "#R[:,1]=vy\n",
    "#R[:,2]=vz\n",
    "#R[:,3]=ax\n",
    "#R[:,4]=ay\n",
    "#R[:,5]=az\n",
    "# print R"
   ]
  },
  {
   "cell_type": "code",
   "execution_count": 9,
   "metadata": {},
   "outputs": [],
   "source": [
    "#h = 0.1\n",
    "\n",
    "#for k in range(0,10):\n",
    "#    for i in range(0,len(m)):\n",
    "#        W[i,:] = W[i,:] + h * R[i,:]\n",
    "#        R[:,0] = W[:,3]\n",
    "#        R[:,1] = W[:,4]\n",
    "#        R[:,2] = W[:,5]\n",
    "        \n",
    "#        R[:,3], R[:,4], R[:,5] = aceleracion.a_str(m,W[:,0],W[:,1],W[:,2],len(m))\n",
    "        \n",
    "        #print W[i,:]\n",
    "        "
   ]
  },
  {
   "cell_type": "code",
   "execution_count": 10,
   "metadata": {},
   "outputs": [],
   "source": [
    "h = 0.001\n",
    "\n",
    "xx=x\n",
    "yy=y\n",
    "zz=z\n",
    "\n",
    "vxx=vx\n",
    "vyy=vy\n",
    "vzz=vz\n",
    "\n",
    "axx=ax\n",
    "ayy=ay\n",
    "azz=az\n",
    "\n",
    "nit=100\n",
    "for k in range(0,nit):\n",
    "    xx = xx + h * vxx\n",
    "    yy = yy + h * vyy\n",
    "    zz = zz + h * vzz\n",
    "\n",
    "    vxx = vxx + h * axx\n",
    "    vyy = vyy + h * ayy\n",
    "    vzz = vzz + h * azz\n",
    "    \n",
    "    axx,ayy,azz = aceleracion.a_str(m,xx,yy,zz,len(m))\n",
    "        \n",
    "        #print W[i,:]"
   ]
  },
  {
   "cell_type": "markdown",
   "metadata": {},
   "source": [
    "### print W"
   ]
  },
  {
   "cell_type": "code",
   "execution_count": 11,
   "metadata": {},
   "outputs": [
    {
     "data": {
      "text/plain": [
       "[<matplotlib.lines.Line2D at 0x7f02fe9df690>]"
      ]
     },
     "execution_count": 11,
     "metadata": {},
     "output_type": "execute_result"
    },
    {
     "data": {
      "image/png": "[encoded data removed]",
      "text/plain": [
       "<matplotlib.figure.Figure at 0x7f02fe9df7d0>"
      ]
     },
     "metadata": {},
     "output_type": "display_data"
    }
   ],
   "source": [
    "plt.plot(x,y,'o', color='b')\n",
    "plt.plot(xx,yy,'o', color='r')"
   ]
  },
  {
   "cell_type": "code",
   "execution_count": 12,
   "metadata": {},
   "outputs": [],
   "source": [
    "from integradores2 import *\n",
    "ax,ay,az=integradores2.a_str(0.5,m,x,y,z,len(m))"
   ]
  },
  {
   "cell_type": "code",
   "execution_count": 13,
   "metadata": {},
   "outputs": [
    {
     "data": {
      "text/plain": [
       "(array([-8.53773804e+01,  3.13874664e+02, -3.83723907e+01, -1.32889954e+02,\n",
       "        -4.02422676e+01,  1.03320396e+02, -1.36714279e+02,  1.73853180e+02,\n",
       "         6.65886002e+01,  7.58529236e+02, -9.58824768e+01,  2.94991211e+02,\n",
       "         7.60054779e+01, -1.53622177e+02,  1.69270187e+02, -2.23821869e+01,\n",
       "         2.45363480e+02, -1.82731506e+02,  1.69616013e+01,  1.47328781e+02,\n",
       "        -2.00245956e+02,  1.80375595e+02,  8.63132248e+01,  1.37879242e+02,\n",
       "        -1.12724785e+02,  1.80972794e+02, -1.22950333e+02, -2.08965744e+02,\n",
       "         6.43425293e+01, -5.17244492e+01, -4.93443176e+02,  2.59250854e+02,\n",
       "         4.96446877e+01, -1.53282089e+02, -1.71718063e+02, -4.12559242e+01,\n",
       "         4.62238953e+02, -1.60563568e+02, -4.37630493e+02,  6.15049400e+01,\n",
       "        -1.65262711e+02,  1.46080704e+02,  1.19236115e+02, -8.37119293e+01,\n",
       "        -1.03004742e+01, -2.87334681e-01, -2.51830231e+02, -7.64710541e+01,\n",
       "        -8.24134674e+01,  1.42268234e+02, -2.62847260e+02, -2.41088974e+02,\n",
       "        -3.92619438e+01], dtype=float32),\n",
       " array([ -81.82551  ,  149.9547   ,  144.6815   ,   11.326078 ,\n",
       "        -174.86731  , -222.92369  , -115.15268  ,   35.868263 ,\n",
       "          20.371891 ,  426.1835   ,  -48.968723 ,   23.226463 ,\n",
       "          70.96681  ,   64.03826  ,  -75.24081  ,  -70.48954  ,\n",
       "        -152.49193  ,  -40.664482 ,  212.12515  , -122.80334  ,\n",
       "         102.86063  ,   -2.1525364,  130.29492  ,   54.834255 ,\n",
       "         143.51987  ,   -9.0552   ,  171.31001  ,   39.653683 ,\n",
       "        -149.75699  , -199.5841   , -230.97153  , -107.48954  ,\n",
       "        -108.35287  , -101.38611  ,  -55.47293  ,    5.5047913,\n",
       "        -693.38135  ,  -72.56877  ,  693.85803  ,  158.0562   ,\n",
       "        -122.464485 ,  -54.193573 ,   21.56824  , -105.966255 ,\n",
       "        -271.89966  ,  200.20305  ,  119.87247  ,  176.67355  ,\n",
       "        -225.73831  ,  126.80448  ,   18.812254 ,  138.07568  ,\n",
       "         155.21779  ], dtype=float32),\n",
       " array([-137.34465  ,  165.52605  , -126.92703  , -229.71043  ,\n",
       "         382.52997  ,  104.27316  ,  -17.672453 ,   61.716152 ,\n",
       "        -237.90088  , -273.59012  ,  -18.357841 ,   -2.7349844,\n",
       "        -134.25745  ,  136.90477  ,  -19.275612 , -256.80414  ,\n",
       "        -305.32095  ,  -45.80359  ,  -32.24529  ,  120.96002  ,\n",
       "         -93.66457  ,   99.97671  ,   84.566154 ,  -75.885994 ,\n",
       "           2.725844 ,   -7.838575 ,   -2.4188638,   54.03181  ,\n",
       "         102.49567  ,    7.6203136,  255.20514  ,  -50.49763  ,\n",
       "         200.80367  ,  -26.778328 ,   30.80102  ,  143.75352  ,\n",
       "        -497.85342  ,  139.03172  ,  224.98213  ,   88.36944  ,\n",
       "         200.85289  ,  -76.81945  , -184.76266  ,  -89.21127  ,\n",
       "          49.666542 ,  -33.733776 ,   74.22719  ,   87.02246  ,\n",
       "         -80.2092   ,    9.056291 , -177.70444  ,  353.92926  ,\n",
       "          54.29558  ], dtype=float32))"
      ]
     },
     "execution_count": 13,
     "metadata": {},
     "output_type": "execute_result"
    }
   ],
   "source": [
    "ax,ay,az"
   ]
  },
  {
   "cell_type": "code",
   "execution_count": 14,
   "metadata": {},
   "outputs": [
    {
     "ename": "TypeError",
     "evalue": "failed to initialize intent(inout|inplace|cache) array, input not an array",
     "output_type": "error",
     "traceback": [
      "\u001b[0;31m---------------------------------------------------------------------------\u001b[0m",
      "\u001b[0;31mTypeError\u001b[0m                                 Traceback (most recent call last)",
      "\u001b[0;32m<ipython-input-14-54024a567d6d>\u001b[0m in \u001b[0;36m<module>\u001b[0;34m()\u001b[0m\n\u001b[1;32m      1\u001b[0m \u001b[0meps\u001b[0m\u001b[0;34m=\u001b[0m\u001b[0;36m0.5\u001b[0m\u001b[0;34m\u001b[0m\u001b[0m\n\u001b[0;32m----> 2\u001b[0;31m \u001b[0mxo\u001b[0m\u001b[0;34m,\u001b[0m\u001b[0myo\u001b[0m\u001b[0;34m,\u001b[0m\u001b[0mzo\u001b[0m\u001b[0;34m,\u001b[0m\u001b[0mvxo\u001b[0m\u001b[0;34m,\u001b[0m\u001b[0mvyo\u001b[0m\u001b[0;34m,\u001b[0m\u001b[0mvzo\u001b[0m\u001b[0;34m,\u001b[0m\u001b[0maxo\u001b[0m\u001b[0;34m,\u001b[0m\u001b[0mayo\u001b[0m\u001b[0;34m,\u001b[0m\u001b[0mazo\u001b[0m \u001b[0;34m=\u001b[0m \u001b[0mintegradores2\u001b[0m\u001b[0;34m.\u001b[0m\u001b[0meuler\u001b[0m\u001b[0;34m(\u001b[0m\u001b[0mlen\u001b[0m\u001b[0;34m(\u001b[0m\u001b[0mx\u001b[0m\u001b[0;34m)\u001b[0m\u001b[0;34m,\u001b[0m\u001b[0mh\u001b[0m\u001b[0;34m,\u001b[0m\u001b[0mx\u001b[0m\u001b[0;34m,\u001b[0m\u001b[0my\u001b[0m\u001b[0;34m,\u001b[0m\u001b[0mz\u001b[0m\u001b[0;34m,\u001b[0m\u001b[0mvx\u001b[0m\u001b[0;34m,\u001b[0m\u001b[0mvy\u001b[0m\u001b[0;34m,\u001b[0m\u001b[0mvz\u001b[0m\u001b[0;34m,\u001b[0m\u001b[0max\u001b[0m\u001b[0;34m,\u001b[0m\u001b[0may\u001b[0m\u001b[0;34m,\u001b[0m\u001b[0maz\u001b[0m\u001b[0;34m)\u001b[0m\u001b[0;34m\u001b[0m\u001b[0m\n\u001b[0m",
      "\u001b[0;31mTypeError\u001b[0m: failed to initialize intent(inout|inplace|cache) array, input not an array"
     ]
    }
   ],
   "source": [
    "eps=0.5\n",
    "xo,yo,zo,vxo,vyo,vzo,axo,ayo,azo = integradores2.euler(len(x),h,x,y,z,vx,vy,vz,ax,ay,az)"
   ]
  },
  {
   "cell_type": "code",
   "execution_count": null,
   "metadata": {},
   "outputs": [],
   "source": [
    "x,y,z,vx,vy,vz,ax,ay,az"
   ]
  },
  {
   "cell_type": "code",
   "execution_count": null,
   "metadata": {},
   "outputs": [],
   "source": [
    "len(x),h"
   ]
  },
  {
   "cell_type": "code",
   "execution_count": null,
   "metadata": {},
   "outputs": [],
   "source": []
  }
 ],
 "metadata": {
  "kernelspec": {
   "display_name": "Python 2",
   "language": "python",
   "name": "python2"
  },
  "language_info": {
   "codemirror_mode": {
    "name": "ipython",
    "version": 2
   },
   "file_extension": ".py",
   "mimetype": "text/x-python",
   "name": "python",
   "nbconvert_exporter": "python",
   "pygments_lexer": "ipython2",
   "version": "2.7.14"
  }
 },
 "nbformat": 4,
 "nbformat_minor": 2
}
