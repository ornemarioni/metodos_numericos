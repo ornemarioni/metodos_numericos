{
 "cells": [
  {
   "cell_type": "code",
   "execution_count": 70,
   "metadata": {},
   "outputs": [
    {
     "name": "stdout",
     "output_type": "stream",
     "text": [
      "Populating the interactive namespace from numpy and matplotlib\n"
     ]
    }
   ],
   "source": [
    "%pylab inline"
   ]
  },
  {
   "cell_type": "code",
   "execution_count": 71,
   "metadata": {},
   "outputs": [],
   "source": [
    "import random\n",
    "\n",
    "N   = 100\n",
    "aux = frange(-1,1,0.001)\n",
    "x   = np.random.choice(aux, N, replace = True)\n",
    "y   = np.random.choice(aux, N, replace = True)\n",
    "z   = np.random.choice(aux, N, replace = True)\n",
    "\n",
    "# vx  = np.random.choice(aux, N, replace = True)\n",
    "# vy  = np.random.choice(aux, N, replace = True)\n",
    "# vz  = np.random.choice(aux, N, replace = True)\n",
    "\n",
    "x = x*100\n",
    "y = y*100\n",
    "z = z*100\n",
    "\n",
    "r = np.sqrt(x**2 + y**2 + z**2)\n",
    "\n",
    "mask, = np.where(r<100)\n",
    "\n",
    "x = x[mask]\n",
    "y = y[mask]\n",
    "z = z[mask]\n",
    "\n",
    "# vx = vx*400 + 100\n",
    "# vy = vy*400 + 100\n",
    "# vz = vz*400 + 100\n",
    "vx = np.zeros(N)\n",
    "vy = np.zeros(N)\n",
    "vz = np.zeros(N)\n",
    "\n",
    "vx = vx[mask]\n",
    "vy = vy[mask]\n",
    "vz = vz[mask]"
   ]
  },
  {
   "cell_type": "code",
   "execution_count": 72,
   "metadata": {},
   "outputs": [],
   "source": [
    "W0 = np.ndarray([len(x),6])\n",
    "W0[:,0]=x\n",
    "W0[:,1]=y\n",
    "W0[:,2]=z\n",
    "W0[:,3]=vx\n",
    "W0[:,4]=vy\n",
    "W0[:,5]=vz\n",
    "# print W"
   ]
  },
  {
   "cell_type": "code",
   "execution_count": 73,
   "metadata": {},
   "outputs": [
    {
     "data": {
      "text/plain": [
       "[<matplotlib.lines.Line2D at 0x7f8820ae6f50>]"
      ]
     },
     "execution_count": 73,
     "metadata": {},
     "output_type": "execute_result"
    },
    {
     "data": {
      "image/png": "[encoded data removed]",
      "text/plain": [
       "<matplotlib.figure.Figure at 0x7f8820b4ed50>"
      ]
     },
     "metadata": {},
     "output_type": "display_data"
    }
   ],
   "source": [
    "plt.plot(W0[:,0],W0[:,1],'o')"
   ]
  },
  {
   "cell_type": "code",
   "execution_count": 74,
   "metadata": {},
   "outputs": [
    {
     "name": "stdout",
     "output_type": "stream",
     "text": [
      "60\n"
     ]
    }
   ],
   "source": [
    "m = np.ones(len(x))*5e11\n",
    "m = m/len(m)\n",
    "print len(m)\n",
    "# m[0] = 1e20"
   ]
  },
  {
   "cell_type": "code",
   "execution_count": 75,
   "metadata": {},
   "outputs": [],
   "source": [
    "#calculamos la aceleracion\n",
    "\n",
    "from aceleracion import *\n",
    "\n",
    "ax, ay, az = aceleracion.a_str(m,x,y,z,len(m))\n",
    "\n",
    "# d = np.ndarray([np.size(a),3])\n",
    "# d[:,0] = u_str\n",
    "# d[:,1] = u_gas\n",
    "# d[:,2] = u_drk\n",
    "# np.savetxt('energia_potencial0.dat', d, '%12.6f', '\\t')"
   ]
  },
  {
   "cell_type": "code",
   "execution_count": 76,
   "metadata": {},
   "outputs": [
    {
     "name": "stdout",
     "output_type": "stream",
     "text": [
      "[  -97.86331177   137.45069885  -104.76163483   149.98635864    10.38170433\n",
      "   -10.76673889  -217.86264038    47.39385986    96.1809082     47.53461075\n",
      "   -71.27928162    62.2489624   -110.80241394  -163.59233093   161.4683075\n",
      "    68.33263397    60.10549927   255.66612244    25.79236984   -22.03627205\n",
      "    61.01628494  -131.11283875  -122.48317719   -87.47767639   136.97195435\n",
      "     9.83362865   -58.85723495   147.35089111    98.029953    -138.2507019\n",
      "   -25.00582695    76.11375427  2221.32788086   -32.06279755    62.26238251\n",
      "  -162.9360199    -51.66369629   -50.83893204  -131.87654114   -56.8154068\n",
      "  -158.46218872   105.66060638  -169.82118225  -100.49794769    78.86193848\n",
      "   224.8506012    140.21965027    55.80564117   142.02339172   143.4206543\n",
      "   205.64413452   -42.74930954 -2622.29467773  -134.80361938   -37.98374557\n",
      "    62.75854492    76.83179474    47.02809525   -45.14352036   -58.45240784] [   2.15116811 -140.03370667  -42.69347763 -168.3208313   157.6537323\n",
      "  163.45896912  130.29341125  254.68673706  -42.22756958  -56.85694122\n",
      "   20.38544846  -70.7798233    31.76928711 -202.41751099   46.81997681\n",
      "   59.69036484  142.91928101  138.84541321 -193.19725037   56.33166122\n",
      " -187.18307495  -70.75447845  131.5614624   161.13900757   92.99114227\n",
      "  -15.88087559  101.35959625  114.1711731    24.94204521  -52.47390747\n",
      "   72.33629608 -163.11250305 -997.07476807 -109.34554291  178.79997253\n",
      "   13.3567524  -159.15472412   22.0454731   -83.53295135   61.48248291\n",
      "   76.79364014  -35.37575912   -6.62875843   19.23574448 -131.66772461\n",
      "  -75.86676025 -130.21092224 -153.28622437  113.13553619   46.26962662\n",
      "  -76.10489655  -45.42111969  744.62902832   60.00039291   69.86293793\n",
      "  -10.8717432   162.08491516  -77.315979    -27.62818527   54.21527863] [  1.90157013e+01   6.52046967e+01   1.33919754e+02  -7.32985382e+01\n",
      "  -3.65135841e+01   8.17892227e+01  -8.36405792e+01  -4.75092010e+01\n",
      "   2.10149582e+02   3.94511261e+01   1.43149246e+02  -1.83604248e+02\n",
      "  -5.50605087e+01   4.92207718e+01   3.51992264e+01   5.10742950e+01\n",
      "  -2.17583069e+02  -6.19613218e+00  -7.44255352e+00   1.59451218e+02\n",
      "   1.36716110e+02  -9.05109978e+00  -2.51755733e+01  -5.57459946e+01\n",
      "  -2.79627609e+01  -8.77007599e+01   3.80073738e+01   2.70763550e+02\n",
      "  -1.54786179e+02  -2.20046585e+02   2.02560867e+02   1.12705986e+02\n",
      "   8.18867493e+02   8.51855698e+01   1.56887293e+01  -8.52581787e+01\n",
      "   1.39251312e+02  -1.57730026e+02   8.27272797e+01  -3.65050602e+00\n",
      "   2.81655731e+01   3.46520004e+01   8.53901386e+00  -4.17438393e+01\n",
      "   1.34050507e+02  -8.28730164e+01   1.03288277e+02  -1.19185776e+02\n",
      "  -1.39956070e+02  -6.83163166e-01  -9.68675919e+01  -1.02417854e+02\n",
      "  -1.18033325e+03   1.65182800e+02  -1.61761520e+02   9.97796097e+01\n",
      "   3.91821861e+01  -9.15315628e+01   1.96992035e+01   3.26714096e+01]\n"
     ]
    }
   ],
   "source": [
    "print ax, ay, az"
   ]
  },
  {
   "cell_type": "code",
   "execution_count": 77,
   "metadata": {},
   "outputs": [],
   "source": [
    "R0 = np.ndarray([len(m),6])\n",
    "R0[:,0]=vx\n",
    "R0[:,1]=vy\n",
    "R0[:,2]=vz\n",
    "R0[:,3]=ax\n",
    "R0[:,4]=ay\n",
    "R0[:,5]=az\n",
    "# print R"
   ]
  },
  {
   "cell_type": "code",
   "execution_count": 78,
   "metadata": {},
   "outputs": [],
   "source": [
    "h = 0.1\n",
    "W = W0\n",
    "R = R0\n",
    "for k in range(0,200):\n",
    "    for i in range(0,len(m)):\n",
    "        W[i,:] = W[i,:] + h * R[i,:]\n",
    "        R[:,0] = W[:,3]\n",
    "        R[:,1] = W[:,4]\n",
    "        R[:,2] = W[:,5]\n",
    "        \n",
    "        R[:,3], R[:,4], R[:,5] = aceleracion.a_str(m,W[:,0],W[:,1],W[:,2],len(m))"
   ]
  },
  {
   "cell_type": "code",
   "execution_count": 79,
   "metadata": {},
   "outputs": [
    {
     "name": "stdout",
     "output_type": "stream",
     "text": [
      "[[ -2.77298800e+02   1.45056924e+03   1.88163554e+03  -1.12824430e+01\n",
      "    8.00704804e+01   1.02642145e+02]\n",
      " [ -4.13325304e+03  -6.88199533e+03  -2.07785934e+03  -2.15491947e+02\n",
      "   -3.59411370e+02  -1.07568637e+02]\n",
      " [ -3.31310811e+03  -1.32081459e+03   4.03243820e+03  -1.71951717e+02\n",
      "   -6.85690585e+01   2.08834013e+02]\n",
      " [  3.83252283e+03  -3.05014550e+03   8.85821145e+02   2.01544851e+02\n",
      "   -1.57188359e+02   4.63720190e+01]\n",
      " [  1.95226295e+03   6.48783740e+03   4.40520284e+02   1.02892083e+02\n",
      "    3.39355531e+02   2.47838705e+01]\n",
      " [ -1.10567727e+04   3.37661709e+03   5.92376285e+03  -5.80325528e+02\n",
      "    1.74899717e+02   3.09575660e+02]\n",
      " [ -8.97433794e+03   5.61664914e+03  -1.87882203e+03  -4.55783187e+02\n",
      "    2.87602571e+02  -9.70936346e+01]\n",
      " [  4.04547222e+03   3.01641846e+03   4.46133323e+02   2.03303840e+02\n",
      "    1.51772594e+02   2.28942287e+01]\n",
      " [  2.17756521e+03   1.63793767e+03   3.78548163e+03   1.13470232e+02\n",
      "    9.28374539e+01   1.93588193e+02]\n",
      " [  2.20492886e+03  -3.55546260e+03  -2.13681658e+03   1.15361830e+02\n",
      "   -1.84063301e+02  -1.11455189e+02]\n",
      " [  1.63086764e+03   2.39506812e+03   5.38100012e+03   8.62297631e+01\n",
      "    1.25764212e+02   2.75731539e+02]\n",
      " [  2.92839856e+03  -3.79423043e+03  -5.26549072e+03   1.52535247e+02\n",
      "   -1.98096406e+02  -2.72223948e+02]\n",
      " [  2.88611551e+03   1.78292365e+02   2.77304971e+03   1.51070144e+02\n",
      "    1.00559407e+01   1.46807458e+02]\n",
      " [ -4.25706010e+03  -5.77165125e+03  -1.15948590e+03  -2.16737770e+02\n",
      "   -2.98337376e+02  -6.07520597e+01]\n",
      " [  4.50037119e+03  -3.39564294e+03  -2.12550056e+02   2.31688195e+02\n",
      "   -1.73672312e+02  -9.43815309e+00]\n",
      " [ -3.90266123e+02   1.60240726e+03  -1.69282878e+03  -2.02975291e+01\n",
      "    7.97358391e+01  -8.91826021e+01]\n",
      " [  3.02393417e+03   4.94978468e+02  -3.06229641e+03   1.52227246e+02\n",
      "    2.62433877e+01  -1.58311684e+02]\n",
      " [  5.74062927e+03   2.27328703e+03   1.13914376e+03   2.92036473e+02\n",
      "    1.13387181e+02   6.20156568e+01]\n",
      " [  2.54875633e+03   3.08100799e+03   1.08123064e+03   1.27136032e+02\n",
      "    1.36956345e+02   6.36432168e+01]\n",
      " [  1.60843566e+03   2.65716147e+03   4.06280154e+03   8.74692481e+01\n",
      "    1.38042220e+02   2.10921561e+02]\n",
      " [  2.08290418e+03   5.42079233e+03   4.85558189e+03   1.11420892e+02\n",
      "    2.78069955e+02   2.49802103e+02]\n",
      " [ -4.04385383e+03  -5.50286474e+02  -1.52649389e+03  -2.12613960e+02\n",
      "   -2.90857876e+01  -7.96052018e+01]\n",
      " [ -2.17978590e+02   1.91061910e+03   2.14307279e+03  -1.61925734e+01\n",
      "    1.00750801e+02   1.13237671e+02]\n",
      " [  2.03043976e+02   4.45803919e+03  -5.85785878e+01   1.37712414e+01\n",
      "    2.29422320e+02  -8.82657593e-01]\n",
      " [  1.41320712e+03   1.39903309e+03  -3.55321147e+03   7.30323981e+01\n",
      "    7.09027989e+01  -1.84175548e+02]\n",
      " [ -1.83723324e+03  -1.73777843e+02  -8.85680208e+03  -9.52750515e+01\n",
      "   -1.25185711e+01  -4.56656111e+02]\n",
      " [  2.89855252e+03   2.01375615e+03   3.00133425e+03   1.50009217e+02\n",
      "    1.02823125e+02   1.56383383e+02]\n",
      " [  9.80467282e+02   3.14182923e+03   8.44594202e+02   5.27610195e+01\n",
      "    1.57560468e+02   4.30885971e+01]\n",
      " [  9.84290082e+02   8.05988106e+02  -4.94915868e+03   5.21152684e+01\n",
      "    3.80721962e+01  -2.54697965e+02]\n",
      " [ -1.81940308e+03  -3.85893495e+03  -2.66435760e+03  -9.44336893e+01\n",
      "   -2.00891552e+02  -1.35741231e+02]\n",
      " [  7.08263094e+02  -1.32335713e+03  -6.69524186e+02   3.65329350e+01\n",
      "   -6.89292031e+01  -3.61330136e+01]\n",
      " [ -2.97411950e+01  -3.60710738e+03  -1.64604088e+02  -1.82864276e+00\n",
      "   -1.85433718e+02  -1.07903603e+01]\n",
      " [  7.78017578e+03  -4.05728120e+03   2.60647309e+03   3.87942174e+02\n",
      "   -2.07277759e+02   1.28230931e+02]\n",
      " [ -1.41740196e+03  -4.96643849e+03   3.13552489e+02  -7.41749432e+01\n",
      "   -2.55690568e+02   1.23474503e+01]\n",
      " [  3.82359465e+03   1.15787956e+02   7.41541906e+03   1.98669600e+02\n",
      "    4.36418003e+00   3.81186237e+02]\n",
      " [ -3.99738309e+03  -4.62405890e+01   1.77848331e+03  -2.07729384e+02\n",
      "   -2.99796594e+00   9.41947830e+01]\n",
      " [  9.10299019e+02  -4.80010141e+02   5.01386974e+02   4.97300811e+01\n",
      "   -2.12530090e+01   2.43105022e+01]\n",
      " [  2.43281849e+03  -1.09672097e+02  -4.56576819e+03   1.27627370e+02\n",
      "   -7.31824866e+00  -2.33842920e+02]\n",
      " [ -3.35891857e+03  -4.29240757e+03   1.37502009e+03  -1.73259743e+02\n",
      "   -2.23350412e+02   7.03460853e+01]\n",
      " [ -4.48315945e+02   1.94495619e+03   2.60252813e+03  -2.05630658e+01\n",
      "    9.85857364e+01   1.34208285e+02]\n",
      " [ -7.14659295e+03   9.45777155e+02   9.74448635e+02  -3.74032780e+02\n",
      "    4.97371961e+01   5.26323648e+01]\n",
      " [  8.93116119e+02   5.63617265e+02   9.80126270e+02   4.39396661e+01\n",
      "    2.87030237e+01   5.00421657e+01]\n",
      " [ -6.60749978e+03   1.64522262e+03   1.51755964e+03  -3.45654300e+02\n",
      "    8.50272002e+01   7.98871766e+01]\n",
      " [  4.69774635e+03  -2.38463947e+03  -1.08208045e+03   2.19842904e+02\n",
      "   -1.04842534e+02  -7.66714737e+01]\n",
      " [  2.64275723e+03   2.94543922e+03   8.32257298e+02   1.39259695e+02\n",
      "    1.42451634e+02   3.27830440e+01]\n",
      " [  1.44255028e+03   2.13030695e+03  -3.04030990e+03   7.03304459e+01\n",
      "    1.07216149e+02  -1.55478700e+02]\n",
      " [  5.10770966e+03  -2.57955739e+03  -8.73158164e+02   2.54984275e+02\n",
      "   -1.20828833e+02  -5.64008939e+01]\n",
      " [  2.84169306e+03  -7.04940102e+03  -4.18642914e+03   1.47855468e+02\n",
      "   -3.66440352e+02  -2.16958990e+02]\n",
      " [ -2.10996732e+02  -1.01105083e+03   2.01895219e+03  -8.72062501e+00\n",
      "   -5.38702389e+01   1.04707478e+02]\n",
      " [  4.38625668e+03   9.43663958e+02  -7.90614401e+02   2.20329706e+02\n",
      "    5.17060185e+01  -3.93555929e+01]\n",
      " [  4.26623689e+03  -2.44095695e+03   6.04267089e+02   2.18034109e+02\n",
      "   -1.26512525e+02   3.45511609e+01]\n",
      " [  3.33241255e+04   2.14194385e+04   1.55390146e+03   1.70989391e+03\n",
      "    1.09890609e+03   7.94383536e+01]\n",
      " [ -4.05860256e+03  -9.82204960e+02  -2.33959119e+03  -2.01990236e+02\n",
      "   -5.47697827e+01  -1.16822198e+02]\n",
      " [ -2.53911369e+03   5.51426872e+03   1.77117163e+03  -1.30465968e+02\n",
      "    2.86063724e+02   9.16871122e+01]\n",
      " [  3.39040697e+03  -1.48492540e+03  -4.56704648e+03   1.78905787e+02\n",
      "   -7.89892337e+01  -2.38060906e+02]\n",
      " [  2.47568202e+03   1.84617536e+03   3.87886079e+03   1.27753599e+02\n",
      "    9.20668643e+01   1.94803931e+02]\n",
      " [  2.52001785e+03   3.09120789e+03   1.05039869e+03   1.35744989e+02\n",
      "    1.82738645e+02   5.84735504e+01]\n",
      " [  4.97380226e+03  -2.50174350e+03   4.43617149e+02   2.55323706e+02\n",
      "   -1.29089101e+02   2.03968691e+01]\n",
      " [  2.84620799e+03  -2.66022585e+03   3.36288613e+03   1.49889405e+02\n",
      "   -1.37279249e+02   1.71510024e+02]\n",
      " [  2.75679436e+03   3.06294667e+03   2.49620830e+03   1.45582956e+02\n",
      "    1.55041352e+02   1.27040364e+02]]\n"
     ]
    }
   ],
   "source": [
    "print W"
   ]
  },
  {
   "cell_type": "code",
   "execution_count": 81,
   "metadata": {},
   "outputs": [
    {
     "data": {
      "text/plain": [
       "[<matplotlib.lines.Line2D at 0x7f88209714d0>]"
      ]
     },
     "execution_count": 81,
     "metadata": {},
     "output_type": "execute_result"
    },
    {
     "data": {
      "image/png": "[encoded data removed]",
      "text/plain": [
       "<matplotlib.figure.Figure at 0x7f8820a8b5d0>"
      ]
     },
     "metadata": {},
     "output_type": "display_data"
    }
   ],
   "source": [
    "plt.plot(W[:,0],W[:,1],'o', color='b')\n",
    "# plt.plot(W0[:,0],W0[:,1],'o', color='r')"
   ]
  },
  {
   "cell_type": "code",
   "execution_count": 82,
   "metadata": {},
   "outputs": [
    {
     "data": {
      "text/plain": [
       "array([[ -2.77298800e+02,   1.45056924e+03,   1.88163554e+03,\n",
       "         -1.12824430e+01,   8.00704804e+01,   1.02642145e+02],\n",
       "       [ -4.13325304e+03,  -6.88199533e+03,  -2.07785934e+03,\n",
       "         -2.15491947e+02,  -3.59411370e+02,  -1.07568637e+02],\n",
       "       [ -3.31310811e+03,  -1.32081459e+03,   4.03243820e+03,\n",
       "         -1.71951717e+02,  -6.85690585e+01,   2.08834013e+02],\n",
       "       [  3.83252283e+03,  -3.05014550e+03,   8.85821145e+02,\n",
       "          2.01544851e+02,  -1.57188359e+02,   4.63720190e+01],\n",
       "       [  1.95226295e+03,   6.48783740e+03,   4.40520284e+02,\n",
       "          1.02892083e+02,   3.39355531e+02,   2.47838705e+01],\n",
       "       [ -1.10567727e+04,   3.37661709e+03,   5.92376285e+03,\n",
       "         -5.80325528e+02,   1.74899717e+02,   3.09575660e+02],\n",
       "       [ -8.97433794e+03,   5.61664914e+03,  -1.87882203e+03,\n",
       "         -4.55783187e+02,   2.87602571e+02,  -9.70936346e+01],\n",
       "       [  4.04547222e+03,   3.01641846e+03,   4.46133323e+02,\n",
       "          2.03303840e+02,   1.51772594e+02,   2.28942287e+01],\n",
       "       [  2.17756521e+03,   1.63793767e+03,   3.78548163e+03,\n",
       "          1.13470232e+02,   9.28374539e+01,   1.93588193e+02],\n",
       "       [  2.20492886e+03,  -3.55546260e+03,  -2.13681658e+03,\n",
       "          1.15361830e+02,  -1.84063301e+02,  -1.11455189e+02],\n",
       "       [  1.63086764e+03,   2.39506812e+03,   5.38100012e+03,\n",
       "          8.62297631e+01,   1.25764212e+02,   2.75731539e+02],\n",
       "       [  2.92839856e+03,  -3.79423043e+03,  -5.26549072e+03,\n",
       "          1.52535247e+02,  -1.98096406e+02,  -2.72223948e+02],\n",
       "       [  2.88611551e+03,   1.78292365e+02,   2.77304971e+03,\n",
       "          1.51070144e+02,   1.00559407e+01,   1.46807458e+02],\n",
       "       [ -4.25706010e+03,  -5.77165125e+03,  -1.15948590e+03,\n",
       "         -2.16737770e+02,  -2.98337376e+02,  -6.07520597e+01],\n",
       "       [  4.50037119e+03,  -3.39564294e+03,  -2.12550056e+02,\n",
       "          2.31688195e+02,  -1.73672312e+02,  -9.43815309e+00],\n",
       "       [ -3.90266123e+02,   1.60240726e+03,  -1.69282878e+03,\n",
       "         -2.02975291e+01,   7.97358391e+01,  -8.91826021e+01],\n",
       "       [  3.02393417e+03,   4.94978468e+02,  -3.06229641e+03,\n",
       "          1.52227246e+02,   2.62433877e+01,  -1.58311684e+02],\n",
       "       [  5.74062927e+03,   2.27328703e+03,   1.13914376e+03,\n",
       "          2.92036473e+02,   1.13387181e+02,   6.20156568e+01],\n",
       "       [  2.54875633e+03,   3.08100799e+03,   1.08123064e+03,\n",
       "          1.27136032e+02,   1.36956345e+02,   6.36432168e+01],\n",
       "       [  1.60843566e+03,   2.65716147e+03,   4.06280154e+03,\n",
       "          8.74692481e+01,   1.38042220e+02,   2.10921561e+02],\n",
       "       [  2.08290418e+03,   5.42079233e+03,   4.85558189e+03,\n",
       "          1.11420892e+02,   2.78069955e+02,   2.49802103e+02],\n",
       "       [ -4.04385383e+03,  -5.50286474e+02,  -1.52649389e+03,\n",
       "         -2.12613960e+02,  -2.90857876e+01,  -7.96052018e+01],\n",
       "       [ -2.17978590e+02,   1.91061910e+03,   2.14307279e+03,\n",
       "         -1.61925734e+01,   1.00750801e+02,   1.13237671e+02],\n",
       "       [  2.03043976e+02,   4.45803919e+03,  -5.85785878e+01,\n",
       "          1.37712414e+01,   2.29422320e+02,  -8.82657593e-01],\n",
       "       [  1.41320712e+03,   1.39903309e+03,  -3.55321147e+03,\n",
       "          7.30323981e+01,   7.09027989e+01,  -1.84175548e+02],\n",
       "       [ -1.83723324e+03,  -1.73777843e+02,  -8.85680208e+03,\n",
       "         -9.52750515e+01,  -1.25185711e+01,  -4.56656111e+02],\n",
       "       [  2.89855252e+03,   2.01375615e+03,   3.00133425e+03,\n",
       "          1.50009217e+02,   1.02823125e+02,   1.56383383e+02],\n",
       "       [  9.80467282e+02,   3.14182923e+03,   8.44594202e+02,\n",
       "          5.27610195e+01,   1.57560468e+02,   4.30885971e+01],\n",
       "       [  9.84290082e+02,   8.05988106e+02,  -4.94915868e+03,\n",
       "          5.21152684e+01,   3.80721962e+01,  -2.54697965e+02],\n",
       "       [ -1.81940308e+03,  -3.85893495e+03,  -2.66435760e+03,\n",
       "         -9.44336893e+01,  -2.00891552e+02,  -1.35741231e+02],\n",
       "       [  7.08263094e+02,  -1.32335713e+03,  -6.69524186e+02,\n",
       "          3.65329350e+01,  -6.89292031e+01,  -3.61330136e+01],\n",
       "       [ -2.97411950e+01,  -3.60710738e+03,  -1.64604088e+02,\n",
       "         -1.82864276e+00,  -1.85433718e+02,  -1.07903603e+01],\n",
       "       [  7.78017578e+03,  -4.05728120e+03,   2.60647309e+03,\n",
       "          3.87942174e+02,  -2.07277759e+02,   1.28230931e+02],\n",
       "       [ -1.41740196e+03,  -4.96643849e+03,   3.13552489e+02,\n",
       "         -7.41749432e+01,  -2.55690568e+02,   1.23474503e+01],\n",
       "       [  3.82359465e+03,   1.15787956e+02,   7.41541906e+03,\n",
       "          1.98669600e+02,   4.36418003e+00,   3.81186237e+02],\n",
       "       [ -3.99738309e+03,  -4.62405890e+01,   1.77848331e+03,\n",
       "         -2.07729384e+02,  -2.99796594e+00,   9.41947830e+01],\n",
       "       [  9.10299019e+02,  -4.80010141e+02,   5.01386974e+02,\n",
       "          4.97300811e+01,  -2.12530090e+01,   2.43105022e+01],\n",
       "       [  2.43281849e+03,  -1.09672097e+02,  -4.56576819e+03,\n",
       "          1.27627370e+02,  -7.31824866e+00,  -2.33842920e+02],\n",
       "       [ -3.35891857e+03,  -4.29240757e+03,   1.37502009e+03,\n",
       "         -1.73259743e+02,  -2.23350412e+02,   7.03460853e+01],\n",
       "       [ -4.48315945e+02,   1.94495619e+03,   2.60252813e+03,\n",
       "         -2.05630658e+01,   9.85857364e+01,   1.34208285e+02],\n",
       "       [ -7.14659295e+03,   9.45777155e+02,   9.74448635e+02,\n",
       "         -3.74032780e+02,   4.97371961e+01,   5.26323648e+01],\n",
       "       [  8.93116119e+02,   5.63617265e+02,   9.80126270e+02,\n",
       "          4.39396661e+01,   2.87030237e+01,   5.00421657e+01],\n",
       "       [ -6.60749978e+03,   1.64522262e+03,   1.51755964e+03,\n",
       "         -3.45654300e+02,   8.50272002e+01,   7.98871766e+01],\n",
       "       [  4.69774635e+03,  -2.38463947e+03,  -1.08208045e+03,\n",
       "          2.19842904e+02,  -1.04842534e+02,  -7.66714737e+01],\n",
       "       [  2.64275723e+03,   2.94543922e+03,   8.32257298e+02,\n",
       "          1.39259695e+02,   1.42451634e+02,   3.27830440e+01],\n",
       "       [  1.44255028e+03,   2.13030695e+03,  -3.04030990e+03,\n",
       "          7.03304459e+01,   1.07216149e+02,  -1.55478700e+02],\n",
       "       [  5.10770966e+03,  -2.57955739e+03,  -8.73158164e+02,\n",
       "          2.54984275e+02,  -1.20828833e+02,  -5.64008939e+01],\n",
       "       [  2.84169306e+03,  -7.04940102e+03,  -4.18642914e+03,\n",
       "          1.47855468e+02,  -3.66440352e+02,  -2.16958990e+02],\n",
       "       [ -2.10996732e+02,  -1.01105083e+03,   2.01895219e+03,\n",
       "         -8.72062501e+00,  -5.38702389e+01,   1.04707478e+02],\n",
       "       [  4.38625668e+03,   9.43663958e+02,  -7.90614401e+02,\n",
       "          2.20329706e+02,   5.17060185e+01,  -3.93555929e+01],\n",
       "       [  4.26623689e+03,  -2.44095695e+03,   6.04267089e+02,\n",
       "          2.18034109e+02,  -1.26512525e+02,   3.45511609e+01],\n",
       "       [  3.33241255e+04,   2.14194385e+04,   1.55390146e+03,\n",
       "          1.70989391e+03,   1.09890609e+03,   7.94383536e+01],\n",
       "       [ -4.05860256e+03,  -9.82204960e+02,  -2.33959119e+03,\n",
       "         -2.01990236e+02,  -5.47697827e+01,  -1.16822198e+02],\n",
       "       [ -2.53911369e+03,   5.51426872e+03,   1.77117163e+03,\n",
       "         -1.30465968e+02,   2.86063724e+02,   9.16871122e+01],\n",
       "       [  3.39040697e+03,  -1.48492540e+03,  -4.56704648e+03,\n",
       "          1.78905787e+02,  -7.89892337e+01,  -2.38060906e+02],\n",
       "       [  2.47568202e+03,   1.84617536e+03,   3.87886079e+03,\n",
       "          1.27753599e+02,   9.20668643e+01,   1.94803931e+02],\n",
       "       [  2.52001785e+03,   3.09120789e+03,   1.05039869e+03,\n",
       "          1.35744989e+02,   1.82738645e+02,   5.84735504e+01],\n",
       "       [  4.97380226e+03,  -2.50174350e+03,   4.43617149e+02,\n",
       "          2.55323706e+02,  -1.29089101e+02,   2.03968691e+01],\n",
       "       [  2.84620799e+03,  -2.66022585e+03,   3.36288613e+03,\n",
       "          1.49889405e+02,  -1.37279249e+02,   1.71510024e+02],\n",
       "       [  2.75679436e+03,   3.06294667e+03,   2.49620830e+03,\n",
       "          1.45582956e+02,   1.55041352e+02,   1.27040364e+02]])"
      ]
     },
     "execution_count": 82,
     "metadata": {},
     "output_type": "execute_result"
    }
   ],
   "source": [
    "W0"
   ]
  },
  {
   "cell_type": "code",
   "execution_count": null,
   "metadata": {},
   "outputs": [],
   "source": []
  }
 ],
 "metadata": {
  "kernelspec": {
   "display_name": "Python 2",
   "language": "python",
   "name": "python2"
  },
  "language_info": {
   "codemirror_mode": {
    "name": "ipython",
    "version": 2
   },
   "file_extension": ".py",
   "mimetype": "text/x-python",
   "name": "python",
   "nbconvert_exporter": "python",
   "pygments_lexer": "ipython2",
   "version": "2.7.13"
  }
 },
 "nbformat": 4,
 "nbformat_minor": 2
}
