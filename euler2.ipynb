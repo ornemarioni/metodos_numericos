{
 "cells": [
  {
   "cell_type": "code",
   "execution_count": 1,
   "metadata": {},
   "outputs": [
    {
     "name": "stdout",
     "output_type": "stream",
     "text": [
      "Populating the interactive namespace from numpy and matplotlib\n"
     ]
    }
   ],
   "source": [
    "%pylab inline"
   ]
  },
  {
   "cell_type": "code",
   "execution_count": 2,
   "metadata": {},
   "outputs": [],
   "source": [
    "import random\n",
    "\n",
    "N   = 10000\n",
    "aux = frange(-1,1,0.001)\n",
    "x   = np.random.choice(aux, N, replace = True)\n",
    "y   = np.random.choice(aux, N, replace = True)\n",
    "z   = np.random.choice(aux, N, replace = True)\n",
    "\n",
    "# vx  = np.random.choice(aux, N, replace = True)\n",
    "# vy  = np.random.choice(aux, N, replace = True)\n",
    "# vz  = np.random.choice(aux, N, replace = True)\n",
    "\n",
    "x = x*100\n",
    "y = y*100\n",
    "z = z*100\n",
    "\n",
    "r = np.sqrt(x**2 + y**2 + z**2)\n",
    "\n",
    "mask, = np.where(r<100)\n",
    "\n",
    "x = x[mask]\n",
    "y = y[mask]\n",
    "z = z[mask]\n",
    "\n",
    "# vx = vx*400 + 100\n",
    "# vy = vy*400 + 100\n",
    "# vz = vz*400 + 100\n",
    "\n",
    "vx = np.zeros(N)\n",
    "vy = np.zeros(N)\n",
    "vz = np.zeros(N)\n",
    "\n",
    "vx = vx[mask]\n",
    "vy = vy[mask]\n",
    "vz = vz[mask]"
   ]
  },
  {
   "cell_type": "code",
   "execution_count": 3,
   "metadata": {},
   "outputs": [
    {
     "data": {
      "text/plain": [
       "(-150, 150)"
      ]
     },
     "execution_count": 3,
     "metadata": {},
     "output_type": "execute_result"
    },
    {
     "data": {
      "image/png": "[encoded data removed]",
      "text/plain": [
       "<matplotlib.figure.Figure at 0x7f7a74565dd0>"
      ]
     },
     "metadata": {},
     "output_type": "display_data"
    }
   ],
   "source": [
    "plt.plot(x,y,'o')\n",
    "plt.xlim(-150,150)\n",
    "plt.ylim(-150,150)"
   ]
  },
  {
   "cell_type": "code",
   "execution_count": 4,
   "metadata": {},
   "outputs": [
    {
     "name": "stdout",
     "output_type": "stream",
     "text": [
      "5150\n"
     ]
    }
   ],
   "source": [
    "m = np.ones(len(x))*5e11\n",
    "m = m/len(m)\n",
    "print len(m)"
   ]
  },
  {
   "cell_type": "code",
   "execution_count": 5,
   "metadata": {},
   "outputs": [],
   "source": [
    "pos = np.ndarray([len(m),3])\n",
    "pos[:,0] = x\n",
    "pos[:,1] = y\n",
    "pos[:,2] = z\n",
    "\n",
    "vel = np.ndarray([len(m),3])\n",
    "\n",
    "vel[:,0] = vx\n",
    "vel[:,1] = vy\n",
    "vel[:,2] = vz"
   ]
  },
  {
   "cell_type": "code",
   "execution_count": 6,
   "metadata": {},
   "outputs": [],
   "source": [
    "#import distancias as d\n",
    "#eps = 0.5\n",
    "#G = 4.299e-6\n",
    "\n",
    "#dx,dy,dz,masas = d.distancias(x,y,z,m)\n",
    "#dist = np.sqrt(dx**2 + dy**2 + dz**2 + eps**2)\n",
    "\n",
    "#aux1 = np.sum(dx / dist**3,axis=0)\n",
    "#aux2 = np.sum(dy / dist**3,axis=0)\n",
    "#aux3 = np.sum(dz / dist**3,axis=0)\n",
    "\n",
    "#ax = G * m * aux1\n",
    "#ay = G * m * aux2\n",
    "#az = G * m * aux3\n",
    "\n",
    "#print ax, ay, az\n"
   ]
  },
  {
   "cell_type": "code",
   "execution_count": 10,
   "metadata": {},
   "outputs": [
    {
     "name": "stderr",
     "output_type": "stream",
     "text": [
      "<magic-timeit>:1: SyntaxWarning: import * only allowed at module level\n"
     ]
    },
    {
     "name": "stdout",
     "output_type": "stream",
     "text": [
      "1 loop, best of 3: 6.39 s per loop\n"
     ]
    }
   ],
   "source": [
    "%%timeit\n",
    "from integradores3 import *\n",
    "eps = 0.5\n",
    "a = integradores.a_str(eps,m,x,y,z)\n",
    "#print a"
   ]
  },
  {
   "cell_type": "code",
   "execution_count": 11,
   "metadata": {},
   "outputs": [
    {
     "name": "stderr",
     "output_type": "stream",
     "text": [
      "<magic-timeit>:1: SyntaxWarning: import * only allowed at module level\n"
     ]
    },
    {
     "name": "stdout",
     "output_type": "stream",
     "text": [
      "1 loop, best of 3: 1.63 s per loop\n"
     ]
    }
   ],
   "source": [
    "%%timeit\n",
    "from integradores2 import *\n",
    "eps = 0.5\n",
    "a = integradores.a_str(eps,m,x,y,z)\n",
    "#print a"
   ]
  },
  {
   "cell_type": "code",
   "execution_count": 12,
   "metadata": {},
   "outputs": [
    {
     "name": "stdout",
     "output_type": "stream",
     "text": [
      "1 loop, best of 3: 1min 26s per loop\n"
     ]
    }
   ],
   "source": [
    "%%timeit\n",
    "import fuerza as fz\n",
    "eps = 0.5\n",
    "a = fz.aceleraciones(eps,x,y,z,m)\n",
    "#print a"
   ]
  },
  {
   "cell_type": "code",
   "execution_count": 9,
   "metadata": {},
   "outputs": [
    {
     "ename": "TypeError",
     "evalue": "can't multiply sequence by non-int of type 'float'",
     "output_type": "error",
     "traceback": [
      "\u001b[0;31m---------------------------------------------------------------------------\u001b[0m",
      "\u001b[0;31mTypeError\u001b[0m                                 Traceback (most recent call last)",
      "\u001b[0;32m<ipython-input-9-f575768caf9c>\u001b[0m in \u001b[0;36m<module>\u001b[0;34m()\u001b[0m\n\u001b[1;32m      3\u001b[0m \u001b[0mnit\u001b[0m \u001b[0;34m=\u001b[0m \u001b[0;36m100\u001b[0m\u001b[0;34m\u001b[0m\u001b[0m\n\u001b[1;32m      4\u001b[0m \u001b[0;34m\u001b[0m\u001b[0m\n\u001b[0;32m----> 5\u001b[0;31m \u001b[0mposf\u001b[0m\u001b[0;34m,\u001b[0m\u001b[0mvelf\u001b[0m\u001b[0;34m,\u001b[0m\u001b[0macf\u001b[0m \u001b[0;34m=\u001b[0m \u001b[0meuler\u001b[0m\u001b[0;34m.\u001b[0m\u001b[0meuler\u001b[0m\u001b[0;34m(\u001b[0m\u001b[0meps\u001b[0m\u001b[0;34m,\u001b[0m\u001b[0mdt\u001b[0m\u001b[0;34m,\u001b[0m\u001b[0mnit\u001b[0m\u001b[0;34m,\u001b[0m\u001b[0mm\u001b[0m\u001b[0;34m,\u001b[0m\u001b[0mpos\u001b[0m\u001b[0;34m,\u001b[0m\u001b[0mvel\u001b[0m\u001b[0;34m,\u001b[0m\u001b[0ma\u001b[0m\u001b[0;34m)\u001b[0m\u001b[0;34m\u001b[0m\u001b[0m\n\u001b[0m",
      "\u001b[0;32m/home/omarioni/metodos_numericos/euler.pyc\u001b[0m in \u001b[0;36meuler\u001b[0;34m(eps, dt, nit, m, pos, vel, acel)\u001b[0m\n",
      "\u001b[0;31mTypeError\u001b[0m: can't multiply sequence by non-int of type 'float'"
     ]
    }
   ],
   "source": [
    "import euler\n",
    "dt = 0.001\n",
    "nit = 100\n",
    "\n",
    "posf,velf,acf = euler.euler(eps,dt,nit,m,pos,vel,a)"
   ]
  },
  {
   "cell_type": "code",
   "execution_count": 12,
   "metadata": {},
   "outputs": [
    {
     "data": {
      "text/plain": [
       "[<matplotlib.lines.Line2D at 0x7ff3c66bc9d0>]"
      ]
     },
     "execution_count": 12,
     "metadata": {},
     "output_type": "execute_result"
    },
    {
     "data": {
      "image/png": "[encoded data removed]",
      "text/plain": [
       "<matplotlib.figure.Figure at 0x7ff3c66bc6d0>"
      ]
     },
     "metadata": {},
     "output_type": "display_data"
    }
   ],
   "source": [
    "plt.plot(x,y,'o',color='b')\n",
    "plt.plot(posf[:,0],posf[:,1],'o',color='r')"
   ]
  },
  {
   "cell_type": "code",
   "execution_count": 13,
   "metadata": {},
   "outputs": [],
   "source": [
    "import energia_potencial as ep\n",
    "\n",
    "Ui = ep.epot(eps,x,y,z,m)\n",
    "Ki = 0.5*m*(vx**2 + vy**2 + vz**2)\n",
    "\n",
    "Ei = Ki - Ui"
   ]
  },
  {
   "cell_type": "code",
   "execution_count": 14,
   "metadata": {},
   "outputs": [],
   "source": [
    "import energia_potencial as ep\n",
    "\n",
    "Ef = np.zeros(nit/10)\n",
    "\n",
    "k=0\n",
    "for i in np.arange(0,nit,10):\n",
    "    posf = np.loadtxt('posiciones'+str('%s'%i)+'.dat')\n",
    "    velf = np.loadtxt('velocidades'+str('%s'%i)+'.dat')\n",
    "    \n",
    "    Uf = ep.epot(eps,posf[:,0],posf[:,1],posf[:,2],m)\n",
    "    Kf = 0.5*m*(velf[:,0]**2 + velf[:,1]**2 + velf[:,2]**2)\n",
    "\n",
    "    E = Kf - Uf\n",
    "    Ef[k] = np.sum(E)\n",
    "    k += 1"
   ]
  },
  {
   "cell_type": "code",
   "execution_count": 15,
   "metadata": {},
   "outputs": [
    {
     "data": {
      "text/plain": [
       "array([9.10016147e+15, 1.27499315e+16, 1.79247147e+16, 2.30531836e+16,\n",
       "       3.38769080e+16, 3.51066733e+16, 4.49472673e+16, 4.95352931e+16,\n",
       "       5.90405182e+16, 7.17976432e+16])"
      ]
     },
     "execution_count": 15,
     "metadata": {},
     "output_type": "execute_result"
    }
   ],
   "source": [
    "Ef"
   ]
  },
  {
   "cell_type": "code",
   "execution_count": 16,
   "metadata": {},
   "outputs": [
    {
     "name": "stdout",
     "output_type": "stream",
     "text": [
      "[0.28625801 0.28869543 0.2224625  0.31950154 0.03502939 0.21893643\n",
      " 0.09262135 0.16099495 0.17768167]\n"
     ]
    }
   ],
   "source": [
    "dE = np.zeros(len(Ef)-1)\n",
    "\n",
    "for i in np.arange(len(Ef)-1):\n",
    "    dE[i] = (Ef[i+1] - Ef[i])/abs(Ef[i+1])\n",
    "\n",
    "print dE"
   ]
  },
  {
   "cell_type": "code",
   "execution_count": 17,
   "metadata": {},
   "outputs": [
    {
     "data": {
      "text/plain": [
       "[<matplotlib.lines.Line2D at 0x7ff3c6769c50>]"
      ]
     },
     "execution_count": 17,
     "metadata": {},
     "output_type": "execute_result"
    },
    {
     "data": {
      "image/png": "[encoded data removed]",
      "text/plain": [
       "<matplotlib.figure.Figure at 0x7ff3c65b8b10>"
      ]
     },
     "metadata": {},
     "output_type": "display_data"
    }
   ],
   "source": [
    "time = dt*np.arange(5,nit-5,10)\n",
    "plt.plot(time,dE,'o')"
   ]
  },
  {
   "cell_type": "markdown",
   "metadata": {},
   "source": [
    "# Euler Implicito"
   ]
  },
  {
   "cell_type": "code",
   "execution_count": 6,
   "metadata": {},
   "outputs": [],
   "source": [
    "pos = np.ndarray([len(m),3])\n",
    "pos[:,0] = x\n",
    "pos[:,1] = y\n",
    "pos[:,2] = z\n",
    "\n",
    "vel = np.ndarray([len(m),3])\n",
    "\n",
    "vel[:,0] = vx\n",
    "vel[:,1] = vy\n",
    "vel[:,2] = vz\n",
    "\n",
    "import aceleraciones as ac\n",
    "eps = 0.5\n",
    "a = ac.aceleraciones(eps,x,y,z,m)\n",
    "#print a"
   ]
  },
  {
   "cell_type": "code",
   "execution_count": null,
   "metadata": {},
   "outputs": [],
   "source": [
    "import euler\n",
    "dt = 0.001\n",
    "nit = 100\n",
    "\n",
    "posf,velf,acf = euler.euler(eps,dt,nit,m,pos,vel,a)"
   ]
  }
 ],
 "metadata": {
  "kernelspec": {
   "display_name": "Python 2",
   "language": "python",
   "name": "python2"
  },
  "language_info": {
   "codemirror_mode": {
    "name": "ipython",
    "version": 2
   },
   "file_extension": ".py",
   "mimetype": "text/x-python",
   "name": "python",
   "nbconvert_exporter": "python",
   "pygments_lexer": "ipython2",
   "version": "2.7.13"
  }
 },
 "nbformat": 4,
 "nbformat_minor": 2
}
