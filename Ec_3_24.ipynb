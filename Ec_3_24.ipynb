{
 "cells": [
  {
   "cell_type": "code",
   "execution_count": 1,
   "metadata": {},
   "outputs": [
    {
     "name": "stdout",
     "output_type": "stream",
     "text": [
      "Populating the interactive namespace from numpy and matplotlib\n"
     ]
    }
   ],
   "source": [
    "%pylab inline"
   ]
  },
  {
   "cell_type": "markdown",
   "metadata": {},
   "source": [
    "#### Vamos a integrar la ec diferencial (3.24) del libro con los diferentes integradores."
   ]
  },
  {
   "cell_type": "markdown",
   "metadata": {},
   "source": [
    "#### Euler"
   ]
  },
  {
   "cell_type": "code",
   "execution_count": 12,
   "metadata": {},
   "outputs": [
    {
     "name": "stdout",
     "output_type": "stream",
     "text": [
      "2.118033988749895\n"
     ]
    }
   ],
   "source": [
    "x1 = 1.\n",
    "y1 = 1.\n",
    "\n",
    "import func_3_24\n",
    "\n",
    "f = func_3_24.f(x1,y1)\n",
    "\n",
    "#print f\n",
    "\n",
    "x2 = 2.\n",
    "dx = x2 - x1\n",
    "\n",
    "y2 = y1 + f*dx\n",
    "\n",
    "print y2"
   ]
  },
  {
   "cell_type": "markdown",
   "metadata": {},
   "source": [
    "#### Runge - Kutta de 2º orden"
   ]
  },
  {
   "cell_type": "code",
   "execution_count": 2,
   "metadata": {},
   "outputs": [],
   "source": [
    "x1 = 1.\n",
    "y1 = 1.\n",
    "\n",
    "x2 = 2.\n",
    "dx = x2 - x1\n",
    "\n",
    "import func_3_24"
   ]
  },
  {
   "cell_type": "code",
   "execution_count": 5,
   "metadata": {},
   "outputs": [
    {
     "name": "stdout",
     "output_type": "stream",
     "text": [
      "2.354238425359342\n"
     ]
    }
   ],
   "source": [
    "k1 = func_3_24.f(x1, y1)\n",
    "k2 = func_3_24.f(x1 + dx, y1 + k1*dx)\n",
    "\n",
    "y2 = y1 + dx*(k1/2. + k2/2.)\n",
    "\n",
    "print y2"
   ]
  },
  {
   "cell_type": "markdown",
   "metadata": {},
   "source": [
    "#### Runge - Kutta de 4º orden"
   ]
  },
  {
   "cell_type": "code",
   "execution_count": 2,
   "metadata": {},
   "outputs": [],
   "source": [
    "x1 = 1.\n",
    "y1 = 1.\n",
    "\n",
    "x2 = 2.\n",
    "dx = x2 - x1\n",
    "\n",
    "import func_3_24"
   ]
  },
  {
   "cell_type": "code",
   "execution_count": 4,
   "metadata": {},
   "outputs": [
    {
     "name": "stdout",
     "output_type": "stream",
     "text": [
      "2.3752325972431034\n"
     ]
    }
   ],
   "source": [
    "k1 = func_3_24.f(x1, y1)\n",
    "k2 = func_3_24.f(x1 + dx*0.5, y1 + k1*dx*0.5)\n",
    "k3 = func_3_24.f(x1 + dx*0.5, y1 + k2*dx*0.5)\n",
    "k4 = func_3_24.f(x1 + dx, y1 + k3*dx)\n",
    "    \n",
    "y2 = y1 + dx*(k1/6. + k2/3. + k3/3. + k4/6.)\n",
    "\n",
    "print y2    "
   ]
  }
 ],
 "metadata": {
  "kernelspec": {
   "display_name": "Python 2",
   "language": "python",
   "name": "python2"
  },
  "language_info": {
   "codemirror_mode": {
    "name": "ipython",
    "version": 2
   },
   "file_extension": ".py",
   "mimetype": "text/x-python",
   "name": "python",
   "nbconvert_exporter": "python",
   "pygments_lexer": "ipython2",
   "version": "2.7.14"
  }
 },
 "nbformat": 4,
 "nbformat_minor": 2
}
