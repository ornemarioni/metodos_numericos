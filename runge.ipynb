{
 "cells": [
  {
   "cell_type": "code",
   "execution_count": 1,
   "metadata": {},
   "outputs": [
    {
     "name": "stdout",
     "output_type": "stream",
     "text": [
      "Populating the interactive namespace from numpy and matplotlib\n"
     ]
    }
   ],
   "source": [
    "%pylab inline"
   ]
  },
  {
   "cell_type": "code",
   "execution_count": 2,
   "metadata": {},
   "outputs": [],
   "source": [
    "import random\n",
    "\n",
    "N   = 100\n",
    "aux = frange(-1,1,0.001)\n",
    "x   = np.random.choice(aux, N, replace = True)\n",
    "y   = np.random.choice(aux, N, replace = True)\n",
    "z   = np.random.choice(aux, N, replace = True)\n",
    "\n",
    "x = x*100\n",
    "y = y*100\n",
    "z = z*100\n",
    "\n",
    "r = np.sqrt(x**2 + y**2 + z**2)\n",
    "\n",
    "mask, = np.where(r<100)\n",
    "\n",
    "x = x[mask]\n",
    "y = y[mask]\n",
    "z = z[mask]\n",
    "\n",
    "vx = np.zeros(len(x))\n",
    "vy = np.zeros(len(x))\n",
    "vz = np.zeros(len(x))\n"
   ]
  },
  {
   "cell_type": "code",
   "execution_count": 3,
   "metadata": {},
   "outputs": [
    {
     "data": {
      "text/plain": [
       "[<matplotlib.lines.Line2D at 0x7fa5320be6d0>]"
      ]
     },
     "execution_count": 3,
     "metadata": {},
     "output_type": "execute_result"
    },
    {
     "data": {
      "image/png": "[encoded data removed]",
      "text/plain": [
       "<matplotlib.figure.Figure at 0x7fa5391d57d0>"
      ]
     },
     "metadata": {},
     "output_type": "display_data"
    }
   ],
   "source": [
    "plt.plot(x,y,'o')"
   ]
  },
  {
   "cell_type": "code",
   "execution_count": 4,
   "metadata": {},
   "outputs": [
    {
     "name": "stdout",
     "output_type": "stream",
     "text": [
      "52\n"
     ]
    }
   ],
   "source": [
    "m = np.ones(len(x))*5e11\n",
    "m = m/len(m)\n",
    "print len(m)"
   ]
  },
  {
   "cell_type": "code",
   "execution_count": 5,
   "metadata": {},
   "outputs": [],
   "source": [
    "from aceleracion import *\n",
    "\n",
    "ax, ay, az = aceleracion.a_str(m,x,y,z,len(m))"
   ]
  },
  {
   "cell_type": "code",
   "execution_count": 6,
   "metadata": {},
   "outputs": [],
   "source": [
    "xx=x\n",
    "yy=y\n",
    "zz=z\n",
    "\n",
    "vxx=vx\n",
    "vyy=vy\n",
    "vzz=vz\n",
    "\n",
    "axx=ax\n",
    "ayy=ay\n",
    "azz=az\n",
    "        "
   ]
  },
  {
   "cell_type": "code",
   "execution_count": 7,
   "metadata": {},
   "outputs": [
    {
     "ename": "KeyboardInterrupt",
     "evalue": "",
     "output_type": "error",
     "traceback": [
      "\u001b[0;31m---------------------------------------------------------------------------\u001b[0m",
      "\u001b[0;31mKeyboardInterrupt\u001b[0m                         Traceback (most recent call last)",
      "\u001b[0;32m<ipython-input-7-c900cca87bcc>\u001b[0m in \u001b[0;36m<module>\u001b[0;34m()\u001b[0m\n\u001b[1;32m     42\u001b[0m     \u001b[0mvzz\u001b[0m \u001b[0;34m=\u001b[0m \u001b[0mvzz\u001b[0m \u001b[0;34m+\u001b[0m \u001b[0mh\u001b[0m\u001b[0;34m*\u001b[0m\u001b[0;34m(\u001b[0m\u001b[0mk1vz\u001b[0m\u001b[0;34m/\u001b[0m\u001b[0;36m6.\u001b[0m \u001b[0;34m+\u001b[0m \u001b[0mk2vz\u001b[0m\u001b[0;34m/\u001b[0m\u001b[0;36m3.\u001b[0m \u001b[0;34m+\u001b[0m \u001b[0mk3vz\u001b[0m\u001b[0;34m/\u001b[0m\u001b[0;36m3.\u001b[0m \u001b[0;34m+\u001b[0m \u001b[0mk4vz\u001b[0m\u001b[0;34m/\u001b[0m\u001b[0;36m6.\u001b[0m\u001b[0;34m)\u001b[0m\u001b[0;34m\u001b[0m\u001b[0m\n\u001b[1;32m     43\u001b[0m \u001b[0;34m\u001b[0m\u001b[0m\n\u001b[0;32m---> 44\u001b[0;31m     \u001b[0maxx\u001b[0m\u001b[0;34m,\u001b[0m\u001b[0mayy\u001b[0m\u001b[0;34m,\u001b[0m\u001b[0mazz\u001b[0m \u001b[0;34m=\u001b[0m \u001b[0maceleracion\u001b[0m\u001b[0;34m.\u001b[0m\u001b[0ma_str\u001b[0m\u001b[0;34m(\u001b[0m\u001b[0mm\u001b[0m\u001b[0;34m,\u001b[0m\u001b[0mxx\u001b[0m\u001b[0;34m,\u001b[0m\u001b[0myy\u001b[0m\u001b[0;34m,\u001b[0m\u001b[0mzz\u001b[0m\u001b[0;34m,\u001b[0m\u001b[0mlen\u001b[0m\u001b[0;34m(\u001b[0m\u001b[0mm\u001b[0m\u001b[0;34m)\u001b[0m\u001b[0;34m)\u001b[0m\u001b[0;34m\u001b[0m\u001b[0m\n\u001b[0m\u001b[1;32m     45\u001b[0m \u001b[0;34m\u001b[0m\u001b[0m\n",
      "\u001b[0;31mKeyboardInterrupt\u001b[0m: "
     ]
    }
   ],
   "source": [
    "h = 0.0001\n",
    "\n",
    "for k in range(0,10000):\n",
    "       \n",
    "    k1x = vxx\n",
    "    k2x = vxx + k1x*h/2.\n",
    "    k3x = vxx + k2x*h/2.\n",
    "    k4x = vxx + k3x*h\n",
    "    \n",
    "    k1y = vyy\n",
    "    k2y = vyy + k1y*h/2.\n",
    "    k3y = vyy + k2y*h/2.\n",
    "    k4y = vyy + k3y*h\n",
    "    \n",
    "    k1z = vzz\n",
    "    k2z = vzz + k1z*h/2.\n",
    "    k3z = vzz + k2z*h/2.\n",
    "    k4z = vzz + k3z*h\n",
    "    \n",
    "    k1vx = axx\n",
    "    k2vx = axx + k1vx*h/2.\n",
    "    k3vx = axx + k2vx*h/2.\n",
    "    k4vx = axx + k3vx*h\n",
    "    \n",
    "    k1vy = ayy\n",
    "    k2vy = ayy + k1vy*h/2.\n",
    "    k3vy = ayy + k2vy*h/2.\n",
    "    k4vy = ayy + k3vy*h\n",
    "    \n",
    "    k1vz = azz\n",
    "    k2vz = azz + k1vz*h/2.\n",
    "    k3vz = azz + k2vz*h/2.\n",
    "    k4vz = azz + k3vz*h\n",
    "    \n",
    "    \n",
    "    xx = xx + h*(k1x/6. + k2x/3. + k3x/3. + k4x/6.)\n",
    "    yy = yy + h*(k1y/6. + k2y/3. + k3y/3. + k4y/6.)\n",
    "    zz = zz + h*(k1z/6. + k2z/3. + k3z/3. + k4z/6.)\n",
    "    \n",
    "    vxx = vxx + h*(k1vx/6. + k2vx/3. + k3vx/3. + k4vx/6.)\n",
    "    vyy = vyy + h*(k1vy/6. + k2vy/3. + k3vy/3. + k4vy/6.)\n",
    "    vzz = vzz + h*(k1vz/6. + k2vz/3. + k3vz/3. + k4vz/6.)\n",
    "    \n",
    "    axx,ayy,azz = aceleracion.a_str(m,xx,yy,zz,len(m))\n",
    "    "
   ]
  },
  {
   "cell_type": "code",
   "execution_count": null,
   "metadata": {},
   "outputs": [],
   "source": [
    "plt.plot(xx,yy,'o',color='r')\n",
    "plt.plot(x,y,'o',color='b')"
   ]
  },
  {
   "cell_type": "code",
   "execution_count": null,
   "metadata": {},
   "outputs": [],
   "source": []
  }
 ],
 "metadata": {
  "kernelspec": {
   "display_name": "Python 2",
   "language": "python",
   "name": "python2"
  },
  "language_info": {
   "codemirror_mode": {
    "name": "ipython",
    "version": 2
   },
   "file_extension": ".py",
   "mimetype": "text/x-python",
   "name": "python",
   "nbconvert_exporter": "python",
   "pygments_lexer": "ipython2",
   "version": "2.7.13"
  }
 },
 "nbformat": 4,
 "nbformat_minor": 2
}
