{
 "cells": [
  {
   "cell_type": "code",
   "execution_count": 1,
   "metadata": {},
   "outputs": [
    {
     "name": "stdout",
     "output_type": "stream",
     "text": [
      "Populating the interactive namespace from numpy and matplotlib\n"
     ]
    }
   ],
   "source": [
    "%pylab inline"
   ]
  },
  {
   "cell_type": "code",
   "execution_count": 5,
   "metadata": {},
   "outputs": [],
   "source": [
    "import random\n",
    "\n",
    "N   = 10\n",
    "aux = frange(0,1,0.001)\n",
    "x   = np.random.choice(aux, N, replace = True)\n",
    "y   = np.random.choice(aux, N, replace = True)\n",
    "z   = np.random.choice(aux, N, replace = True)\n",
    "\n",
    "vx  = np.random.choice(aux, N, replace = True)\n",
    "vy  = np.random.choice(aux, N, replace = True)\n",
    "vz  = np.random.choice(aux, N, replace = True)\n",
    "\n",
    "x = x*100\n",
    "y = y*100\n",
    "z = z*100\n",
    "\n",
    "vx = vx*400 + 100\n",
    "vy = vy*400 + 100\n",
    "vz = vz*400 + 100"
   ]
  },
  {
   "cell_type": "code",
   "execution_count": 6,
   "metadata": {},
   "outputs": [],
   "source": [
    "W = np.ndarray([N,6])\n",
    "W[:,0]=x\n",
    "W[:,1]=y\n",
    "W[:,2]=z\n",
    "W[:,3]=vx\n",
    "W[:,4]=vy\n",
    "W[:,5]=vz\n",
    "# print W"
   ]
  },
  {
   "cell_type": "code",
   "execution_count": 7,
   "metadata": {},
   "outputs": [
    {
     "data": {
      "text/plain": [
       "[<matplotlib.lines.Line2D at 0x7f838fc36290>]"
      ]
     },
     "execution_count": 7,
     "metadata": {},
     "output_type": "execute_result"
    },
    {
     "data": {
      "image/png": "[encoded data removed]",
      "text/plain": [
       "<matplotlib.figure.Figure at 0x7f83b8bd08d0>"
      ]
     },
     "metadata": {},
     "output_type": "display_data"
    }
   ],
   "source": [
    "plt.plot(W[:,0],W[:,1],'o')"
   ]
  },
  {
   "cell_type": "code",
   "execution_count": 8,
   "metadata": {},
   "outputs": [],
   "source": [
    "m = np.ones(len(x))*1e10"
   ]
  },
  {
   "cell_type": "code",
   "execution_count": 9,
   "metadata": {},
   "outputs": [],
   "source": [
    "from aceleracion import *\n",
    "\n",
    "ax, ay, az = aceleracion.a_str(m,x,y,z,N)\n",
    "\n",
    "R = np.ndarray([N,6])\n",
    "R[:,0]=vx\n",
    "R[:,1]=vy\n",
    "R[:,2]=vz\n",
    "R[:,3]=ax\n",
    "R[:,4]=ay\n",
    "R[:,5]=az"
   ]
  },
  {
   "cell_type": "code",
   "execution_count": null,
   "metadata": {},
   "outputs": [],
   "source": [
    "h = 1\n",
    "for k in range(0,1000):\n",
    "    for i in range(0,N):\n",
    "        \n",
    "        k1 = R[i,:]\n",
    "        \n",
    "        W[i,:] = W[i,:] + (1/2.)*h * R[i,:]\n",
    "        R[:,0] = W[:,3]\n",
    "        R[:,1] = W[:,4]\n",
    "        R[:,2] = W[:,5]\n",
    "        \n",
    "        R[:,3], R[:,4], R[:,5] = aceleracion.a_str(m,W[:,0],W[:,1],W[:,2],N)\n",
    "        \n",
    "        k2 = R\n",
    "        \n",
    "        W[i,:] = W[i,:] + (h/6) * (k1 + 2*k2 + 2*k3 + k4)"
   ]
  }
 ],
 "metadata": {
  "kernelspec": {
   "display_name": "Python 2",
   "language": "python",
   "name": "python2"
  },
  "language_info": {
   "codemirror_mode": {
    "name": "ipython",
    "version": 2
   },
   "file_extension": ".py",
   "mimetype": "text/x-python",
   "name": "python",
   "nbconvert_exporter": "python",
   "pygments_lexer": "ipython2",
   "version": "2.7.13"
  }
 },
 "nbformat": 4,
 "nbformat_minor": 2
}
